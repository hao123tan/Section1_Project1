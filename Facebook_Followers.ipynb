{
 "cells": [
  {
   "cell_type": "code",
   "execution_count": 37,
   "metadata": {},
   "outputs": [
    {
     "data": {
      "text/html": [
       "        <script type=\"text/javascript\">\n",
       "        window.PlotlyConfig = {MathJaxConfig: 'local'};\n",
       "        if (window.MathJax) {MathJax.Hub.Config({SVG: {font: \"STIX-Web\"}});}\n",
       "        if (typeof require !== 'undefined') {\n",
       "        require.undef(\"plotly\");\n",
       "        requirejs.config({\n",
       "            paths: {\n",
       "                'plotly': ['https://cdn.plot.ly/plotly-latest.min']\n",
       "            }\n",
       "        });\n",
       "        require(['plotly'], function(Plotly) {\n",
       "            window._Plotly = Plotly;\n",
       "        });\n",
       "        }\n",
       "        </script>\n",
       "        "
      ]
     },
     "metadata": {},
     "output_type": "display_data"
    }
   ],
   "source": [
    "import pandas as pd\n",
    "# it's a library that we work with plotly\n",
    "import plotly.offline as py \n",
    "py.init_notebook_mode(connected=True) # this code, allow us to work with offline plotly version\n",
    "import plotly.graph_objs as go # it's like \"plt\" of matplot\n",
    "import plotly.tools as tls # It's useful to we get some tools of plotly"
   ]
  },
  {
   "cell_type": "code",
   "execution_count": 2,
   "metadata": {},
   "outputs": [
    {
     "name": "stderr",
     "output_type": "stream",
     "text": [
      "/Users/tanpeng/opt/anaconda3/lib/python3.7/site-packages/IPython/core/interactiveshell.py:3058: DtypeWarning: Columns (9) have mixed types. Specify dtype option on import or set low_memory=False.\n",
      "  interactivity=interactivity, compiler=compiler, result=result)\n"
     ]
    }
   ],
   "source": [
    "faceObj = pd.read_csv('./temp_datalab_records_social_facebook.csv')"
   ]
  },
  {
   "cell_type": "markdown",
   "metadata": {},
   "source": [
    "<h1 align=\"center\"> Question one </h1>\n",
    "<h7 align=\"center\">Compare companies with highest volatility of “talking about count” — who they are – and use any information online to see if this metric overlaps with highly publicized events and marketing campaigns. </h2>\n"
   ]
  },
  {
   "cell_type": "code",
   "execution_count": 85,
   "metadata": {},
   "outputs": [],
   "source": [
    "groupObj = faceObj.groupby(\"username\")\n",
    "StdObj = groupObj.std()[[\"talking_about_count\"]]\n",
    "Count_Obj = StdObj.sort_values(by=\"talking_about_count\", ascending=False)"
   ]
  },
  {
   "cell_type": "code",
   "execution_count": 86,
   "metadata": {},
   "outputs": [
    {
     "data": {
      "application/vnd.plotly.v1+json": {
       "config": {
        "linkText": "Export to plot.ly",
        "plotlyServerURL": "https://plot.ly",
        "showLink": false
       },
       "data": [
        {
         "type": "bar",
         "x": [
          "CBSNews",
          "manchesterunited",
          "Storyful",
          "yahoo",
          "usatoday",
          "NYPost",
          "wwe",
          "nytimes",
          "CollegeHumor",
          "ToyotaSpecialShowroom"
         ],
         "y": [
          852774.8077806474,
          690647.9417609469,
          674762.3933336351,
          650379.7712376368,
          538876.4290334589,
          520474.00883282773,
          509794.1959663883,
          485310.8568499614,
          466257.2175078752,
          449515.77768867824
         ]
        }
       ],
       "layout": {
        "barmode": "group",
        "template": {
         "data": {
          "bar": [
           {
            "error_x": {
             "color": "#2a3f5f"
            },
            "error_y": {
             "color": "#2a3f5f"
            },
            "marker": {
             "line": {
              "color": "#E5ECF6",
              "width": 0.5
             }
            },
            "type": "bar"
           }
          ],
          "barpolar": [
           {
            "marker": {
             "line": {
              "color": "#E5ECF6",
              "width": 0.5
             }
            },
            "type": "barpolar"
           }
          ],
          "carpet": [
           {
            "aaxis": {
             "endlinecolor": "#2a3f5f",
             "gridcolor": "white",
             "linecolor": "white",
             "minorgridcolor": "white",
             "startlinecolor": "#2a3f5f"
            },
            "baxis": {
             "endlinecolor": "#2a3f5f",
             "gridcolor": "white",
             "linecolor": "white",
             "minorgridcolor": "white",
             "startlinecolor": "#2a3f5f"
            },
            "type": "carpet"
           }
          ],
          "choropleth": [
           {
            "colorbar": {
             "outlinewidth": 0,
             "ticks": ""
            },
            "type": "choropleth"
           }
          ],
          "contour": [
           {
            "colorbar": {
             "outlinewidth": 0,
             "ticks": ""
            },
            "colorscale": [
             [
              0,
              "#0d0887"
             ],
             [
              0.1111111111111111,
              "#46039f"
             ],
             [
              0.2222222222222222,
              "#7201a8"
             ],
             [
              0.3333333333333333,
              "#9c179e"
             ],
             [
              0.4444444444444444,
              "#bd3786"
             ],
             [
              0.5555555555555556,
              "#d8576b"
             ],
             [
              0.6666666666666666,
              "#ed7953"
             ],
             [
              0.7777777777777778,
              "#fb9f3a"
             ],
             [
              0.8888888888888888,
              "#fdca26"
             ],
             [
              1,
              "#f0f921"
             ]
            ],
            "type": "contour"
           }
          ],
          "contourcarpet": [
           {
            "colorbar": {
             "outlinewidth": 0,
             "ticks": ""
            },
            "type": "contourcarpet"
           }
          ],
          "heatmap": [
           {
            "colorbar": {
             "outlinewidth": 0,
             "ticks": ""
            },
            "colorscale": [
             [
              0,
              "#0d0887"
             ],
             [
              0.1111111111111111,
              "#46039f"
             ],
             [
              0.2222222222222222,
              "#7201a8"
             ],
             [
              0.3333333333333333,
              "#9c179e"
             ],
             [
              0.4444444444444444,
              "#bd3786"
             ],
             [
              0.5555555555555556,
              "#d8576b"
             ],
             [
              0.6666666666666666,
              "#ed7953"
             ],
             [
              0.7777777777777778,
              "#fb9f3a"
             ],
             [
              0.8888888888888888,
              "#fdca26"
             ],
             [
              1,
              "#f0f921"
             ]
            ],
            "type": "heatmap"
           }
          ],
          "heatmapgl": [
           {
            "colorbar": {
             "outlinewidth": 0,
             "ticks": ""
            },
            "colorscale": [
             [
              0,
              "#0d0887"
             ],
             [
              0.1111111111111111,
              "#46039f"
             ],
             [
              0.2222222222222222,
              "#7201a8"
             ],
             [
              0.3333333333333333,
              "#9c179e"
             ],
             [
              0.4444444444444444,
              "#bd3786"
             ],
             [
              0.5555555555555556,
              "#d8576b"
             ],
             [
              0.6666666666666666,
              "#ed7953"
             ],
             [
              0.7777777777777778,
              "#fb9f3a"
             ],
             [
              0.8888888888888888,
              "#fdca26"
             ],
             [
              1,
              "#f0f921"
             ]
            ],
            "type": "heatmapgl"
           }
          ],
          "histogram": [
           {
            "marker": {
             "colorbar": {
              "outlinewidth": 0,
              "ticks": ""
             }
            },
            "type": "histogram"
           }
          ],
          "histogram2d": [
           {
            "colorbar": {
             "outlinewidth": 0,
             "ticks": ""
            },
            "colorscale": [
             [
              0,
              "#0d0887"
             ],
             [
              0.1111111111111111,
              "#46039f"
             ],
             [
              0.2222222222222222,
              "#7201a8"
             ],
             [
              0.3333333333333333,
              "#9c179e"
             ],
             [
              0.4444444444444444,
              "#bd3786"
             ],
             [
              0.5555555555555556,
              "#d8576b"
             ],
             [
              0.6666666666666666,
              "#ed7953"
             ],
             [
              0.7777777777777778,
              "#fb9f3a"
             ],
             [
              0.8888888888888888,
              "#fdca26"
             ],
             [
              1,
              "#f0f921"
             ]
            ],
            "type": "histogram2d"
           }
          ],
          "histogram2dcontour": [
           {
            "colorbar": {
             "outlinewidth": 0,
             "ticks": ""
            },
            "colorscale": [
             [
              0,
              "#0d0887"
             ],
             [
              0.1111111111111111,
              "#46039f"
             ],
             [
              0.2222222222222222,
              "#7201a8"
             ],
             [
              0.3333333333333333,
              "#9c179e"
             ],
             [
              0.4444444444444444,
              "#bd3786"
             ],
             [
              0.5555555555555556,
              "#d8576b"
             ],
             [
              0.6666666666666666,
              "#ed7953"
             ],
             [
              0.7777777777777778,
              "#fb9f3a"
             ],
             [
              0.8888888888888888,
              "#fdca26"
             ],
             [
              1,
              "#f0f921"
             ]
            ],
            "type": "histogram2dcontour"
           }
          ],
          "mesh3d": [
           {
            "colorbar": {
             "outlinewidth": 0,
             "ticks": ""
            },
            "type": "mesh3d"
           }
          ],
          "parcoords": [
           {
            "line": {
             "colorbar": {
              "outlinewidth": 0,
              "ticks": ""
             }
            },
            "type": "parcoords"
           }
          ],
          "scatter": [
           {
            "marker": {
             "colorbar": {
              "outlinewidth": 0,
              "ticks": ""
             }
            },
            "type": "scatter"
           }
          ],
          "scatter3d": [
           {
            "line": {
             "colorbar": {
              "outlinewidth": 0,
              "ticks": ""
             }
            },
            "marker": {
             "colorbar": {
              "outlinewidth": 0,
              "ticks": ""
             }
            },
            "type": "scatter3d"
           }
          ],
          "scattercarpet": [
           {
            "marker": {
             "colorbar": {
              "outlinewidth": 0,
              "ticks": ""
             }
            },
            "type": "scattercarpet"
           }
          ],
          "scattergeo": [
           {
            "marker": {
             "colorbar": {
              "outlinewidth": 0,
              "ticks": ""
             }
            },
            "type": "scattergeo"
           }
          ],
          "scattergl": [
           {
            "marker": {
             "colorbar": {
              "outlinewidth": 0,
              "ticks": ""
             }
            },
            "type": "scattergl"
           }
          ],
          "scattermapbox": [
           {
            "marker": {
             "colorbar": {
              "outlinewidth": 0,
              "ticks": ""
             }
            },
            "type": "scattermapbox"
           }
          ],
          "scatterpolar": [
           {
            "marker": {
             "colorbar": {
              "outlinewidth": 0,
              "ticks": ""
             }
            },
            "type": "scatterpolar"
           }
          ],
          "scatterpolargl": [
           {
            "marker": {
             "colorbar": {
              "outlinewidth": 0,
              "ticks": ""
             }
            },
            "type": "scatterpolargl"
           }
          ],
          "scatterternary": [
           {
            "marker": {
             "colorbar": {
              "outlinewidth": 0,
              "ticks": ""
             }
            },
            "type": "scatterternary"
           }
          ],
          "surface": [
           {
            "colorbar": {
             "outlinewidth": 0,
             "ticks": ""
            },
            "colorscale": [
             [
              0,
              "#0d0887"
             ],
             [
              0.1111111111111111,
              "#46039f"
             ],
             [
              0.2222222222222222,
              "#7201a8"
             ],
             [
              0.3333333333333333,
              "#9c179e"
             ],
             [
              0.4444444444444444,
              "#bd3786"
             ],
             [
              0.5555555555555556,
              "#d8576b"
             ],
             [
              0.6666666666666666,
              "#ed7953"
             ],
             [
              0.7777777777777778,
              "#fb9f3a"
             ],
             [
              0.8888888888888888,
              "#fdca26"
             ],
             [
              1,
              "#f0f921"
             ]
            ],
            "type": "surface"
           }
          ],
          "table": [
           {
            "cells": {
             "fill": {
              "color": "#EBF0F8"
             },
             "line": {
              "color": "white"
             }
            },
            "header": {
             "fill": {
              "color": "#C8D4E3"
             },
             "line": {
              "color": "white"
             }
            },
            "type": "table"
           }
          ]
         },
         "layout": {
          "annotationdefaults": {
           "arrowcolor": "#2a3f5f",
           "arrowhead": 0,
           "arrowwidth": 1
          },
          "colorscale": {
           "diverging": [
            [
             0,
             "#8e0152"
            ],
            [
             0.1,
             "#c51b7d"
            ],
            [
             0.2,
             "#de77ae"
            ],
            [
             0.3,
             "#f1b6da"
            ],
            [
             0.4,
             "#fde0ef"
            ],
            [
             0.5,
             "#f7f7f7"
            ],
            [
             0.6,
             "#e6f5d0"
            ],
            [
             0.7,
             "#b8e186"
            ],
            [
             0.8,
             "#7fbc41"
            ],
            [
             0.9,
             "#4d9221"
            ],
            [
             1,
             "#276419"
            ]
           ],
           "sequential": [
            [
             0,
             "#0d0887"
            ],
            [
             0.1111111111111111,
             "#46039f"
            ],
            [
             0.2222222222222222,
             "#7201a8"
            ],
            [
             0.3333333333333333,
             "#9c179e"
            ],
            [
             0.4444444444444444,
             "#bd3786"
            ],
            [
             0.5555555555555556,
             "#d8576b"
            ],
            [
             0.6666666666666666,
             "#ed7953"
            ],
            [
             0.7777777777777778,
             "#fb9f3a"
            ],
            [
             0.8888888888888888,
             "#fdca26"
            ],
            [
             1,
             "#f0f921"
            ]
           ],
           "sequentialminus": [
            [
             0,
             "#0d0887"
            ],
            [
             0.1111111111111111,
             "#46039f"
            ],
            [
             0.2222222222222222,
             "#7201a8"
            ],
            [
             0.3333333333333333,
             "#9c179e"
            ],
            [
             0.4444444444444444,
             "#bd3786"
            ],
            [
             0.5555555555555556,
             "#d8576b"
            ],
            [
             0.6666666666666666,
             "#ed7953"
            ],
            [
             0.7777777777777778,
             "#fb9f3a"
            ],
            [
             0.8888888888888888,
             "#fdca26"
            ],
            [
             1,
             "#f0f921"
            ]
           ]
          },
          "colorway": [
           "#636efa",
           "#EF553B",
           "#00cc96",
           "#ab63fa",
           "#FFA15A",
           "#19d3f3",
           "#FF6692",
           "#B6E880",
           "#FF97FF",
           "#FECB52"
          ],
          "font": {
           "color": "#2a3f5f"
          },
          "geo": {
           "bgcolor": "white",
           "lakecolor": "white",
           "landcolor": "#E5ECF6",
           "showlakes": true,
           "showland": true,
           "subunitcolor": "white"
          },
          "hoverlabel": {
           "align": "left"
          },
          "hovermode": "closest",
          "mapbox": {
           "style": "light"
          },
          "paper_bgcolor": "white",
          "plot_bgcolor": "#E5ECF6",
          "polar": {
           "angularaxis": {
            "gridcolor": "white",
            "linecolor": "white",
            "ticks": ""
           },
           "bgcolor": "#E5ECF6",
           "radialaxis": {
            "gridcolor": "white",
            "linecolor": "white",
            "ticks": ""
           }
          },
          "scene": {
           "xaxis": {
            "backgroundcolor": "#E5ECF6",
            "gridcolor": "white",
            "gridwidth": 2,
            "linecolor": "white",
            "showbackground": true,
            "ticks": "",
            "zerolinecolor": "white"
           },
           "yaxis": {
            "backgroundcolor": "#E5ECF6",
            "gridcolor": "white",
            "gridwidth": 2,
            "linecolor": "white",
            "showbackground": true,
            "ticks": "",
            "zerolinecolor": "white"
           },
           "zaxis": {
            "backgroundcolor": "#E5ECF6",
            "gridcolor": "white",
            "gridwidth": 2,
            "linecolor": "white",
            "showbackground": true,
            "ticks": "",
            "zerolinecolor": "white"
           }
          },
          "shapedefaults": {
           "line": {
            "color": "#2a3f5f"
           }
          },
          "ternary": {
           "aaxis": {
            "gridcolor": "white",
            "linecolor": "white",
            "ticks": ""
           },
           "baxis": {
            "gridcolor": "white",
            "linecolor": "white",
            "ticks": ""
           },
           "bgcolor": "#E5ECF6",
           "caxis": {
            "gridcolor": "white",
            "linecolor": "white",
            "ticks": ""
           }
          },
          "title": {
           "x": 0.05
          },
          "xaxis": {
           "automargin": true,
           "gridcolor": "white",
           "linecolor": "white",
           "ticks": "",
           "zerolinecolor": "white",
           "zerolinewidth": 2
          },
          "yaxis": {
           "automargin": true,
           "gridcolor": "white",
           "linecolor": "white",
           "ticks": "",
           "zerolinecolor": "white",
           "zerolinewidth": 2
          }
         }
        },
        "title": {
         "text": "The volatility of “talking about count” among 10 companies"
        },
        "xaxis": {
         "title": {
          "text": "Companies name"
         }
        },
        "yaxis": {
         "title": {
          "text": "Volatility(Using Standard Deviation)"
         }
        }
       }
      },
      "text/html": [
       "<div>\n",
       "        \n",
       "        \n",
       "            <div id=\"53be28ea-da18-4c83-9691-b74f859163b5\" class=\"plotly-graph-div\" style=\"height:525px; width:100%;\"></div>\n",
       "            <script type=\"text/javascript\">\n",
       "                require([\"plotly\"], function(Plotly) {\n",
       "                    window.PLOTLYENV=window.PLOTLYENV || {};\n",
       "                    \n",
       "                if (document.getElementById(\"53be28ea-da18-4c83-9691-b74f859163b5\")) {\n",
       "                    Plotly.newPlot(\n",
       "                        '53be28ea-da18-4c83-9691-b74f859163b5',\n",
       "                        [{\"type\": \"bar\", \"x\": [\"CBSNews\", \"manchesterunited\", \"Storyful\", \"yahoo\", \"usatoday\", \"NYPost\", \"wwe\", \"nytimes\", \"CollegeHumor\", \"ToyotaSpecialShowroom\"], \"y\": [852774.8077806474, 690647.9417609469, 674762.3933336351, 650379.7712376368, 538876.4290334589, 520474.00883282773, 509794.1959663883, 485310.8568499614, 466257.2175078752, 449515.77768867824]}],\n",
       "                        {\"barmode\": \"group\", \"template\": {\"data\": {\"bar\": [{\"error_x\": {\"color\": \"#2a3f5f\"}, \"error_y\": {\"color\": \"#2a3f5f\"}, \"marker\": {\"line\": {\"color\": \"#E5ECF6\", \"width\": 0.5}}, \"type\": \"bar\"}], \"barpolar\": [{\"marker\": {\"line\": {\"color\": \"#E5ECF6\", \"width\": 0.5}}, \"type\": \"barpolar\"}], \"carpet\": [{\"aaxis\": {\"endlinecolor\": \"#2a3f5f\", \"gridcolor\": \"white\", \"linecolor\": \"white\", \"minorgridcolor\": \"white\", \"startlinecolor\": \"#2a3f5f\"}, \"baxis\": {\"endlinecolor\": \"#2a3f5f\", \"gridcolor\": \"white\", \"linecolor\": \"white\", \"minorgridcolor\": \"white\", \"startlinecolor\": \"#2a3f5f\"}, \"type\": \"carpet\"}], \"choropleth\": [{\"colorbar\": {\"outlinewidth\": 0, \"ticks\": \"\"}, \"type\": \"choropleth\"}], \"contour\": [{\"colorbar\": {\"outlinewidth\": 0, \"ticks\": \"\"}, \"colorscale\": [[0.0, \"#0d0887\"], [0.1111111111111111, \"#46039f\"], [0.2222222222222222, \"#7201a8\"], [0.3333333333333333, \"#9c179e\"], [0.4444444444444444, \"#bd3786\"], [0.5555555555555556, \"#d8576b\"], [0.6666666666666666, \"#ed7953\"], [0.7777777777777778, \"#fb9f3a\"], [0.8888888888888888, \"#fdca26\"], [1.0, \"#f0f921\"]], \"type\": \"contour\"}], \"contourcarpet\": [{\"colorbar\": {\"outlinewidth\": 0, \"ticks\": \"\"}, \"type\": \"contourcarpet\"}], \"heatmap\": [{\"colorbar\": {\"outlinewidth\": 0, \"ticks\": \"\"}, \"colorscale\": [[0.0, \"#0d0887\"], [0.1111111111111111, \"#46039f\"], [0.2222222222222222, \"#7201a8\"], [0.3333333333333333, \"#9c179e\"], [0.4444444444444444, \"#bd3786\"], [0.5555555555555556, \"#d8576b\"], [0.6666666666666666, \"#ed7953\"], [0.7777777777777778, \"#fb9f3a\"], [0.8888888888888888, \"#fdca26\"], [1.0, \"#f0f921\"]], \"type\": \"heatmap\"}], \"heatmapgl\": [{\"colorbar\": {\"outlinewidth\": 0, \"ticks\": \"\"}, \"colorscale\": [[0.0, \"#0d0887\"], [0.1111111111111111, \"#46039f\"], [0.2222222222222222, \"#7201a8\"], [0.3333333333333333, \"#9c179e\"], [0.4444444444444444, \"#bd3786\"], [0.5555555555555556, \"#d8576b\"], [0.6666666666666666, \"#ed7953\"], [0.7777777777777778, \"#fb9f3a\"], [0.8888888888888888, \"#fdca26\"], [1.0, \"#f0f921\"]], \"type\": \"heatmapgl\"}], \"histogram\": [{\"marker\": {\"colorbar\": {\"outlinewidth\": 0, \"ticks\": \"\"}}, \"type\": \"histogram\"}], \"histogram2d\": [{\"colorbar\": {\"outlinewidth\": 0, \"ticks\": \"\"}, \"colorscale\": [[0.0, \"#0d0887\"], [0.1111111111111111, \"#46039f\"], [0.2222222222222222, \"#7201a8\"], [0.3333333333333333, \"#9c179e\"], [0.4444444444444444, \"#bd3786\"], [0.5555555555555556, \"#d8576b\"], [0.6666666666666666, \"#ed7953\"], [0.7777777777777778, \"#fb9f3a\"], [0.8888888888888888, \"#fdca26\"], [1.0, \"#f0f921\"]], \"type\": \"histogram2d\"}], \"histogram2dcontour\": [{\"colorbar\": {\"outlinewidth\": 0, \"ticks\": \"\"}, \"colorscale\": [[0.0, \"#0d0887\"], [0.1111111111111111, \"#46039f\"], [0.2222222222222222, \"#7201a8\"], [0.3333333333333333, \"#9c179e\"], [0.4444444444444444, \"#bd3786\"], [0.5555555555555556, \"#d8576b\"], [0.6666666666666666, \"#ed7953\"], [0.7777777777777778, \"#fb9f3a\"], [0.8888888888888888, \"#fdca26\"], [1.0, \"#f0f921\"]], \"type\": \"histogram2dcontour\"}], \"mesh3d\": [{\"colorbar\": {\"outlinewidth\": 0, \"ticks\": \"\"}, \"type\": \"mesh3d\"}], \"parcoords\": [{\"line\": {\"colorbar\": {\"outlinewidth\": 0, \"ticks\": \"\"}}, \"type\": \"parcoords\"}], \"scatter\": [{\"marker\": {\"colorbar\": {\"outlinewidth\": 0, \"ticks\": \"\"}}, \"type\": \"scatter\"}], \"scatter3d\": [{\"line\": {\"colorbar\": {\"outlinewidth\": 0, \"ticks\": \"\"}}, \"marker\": {\"colorbar\": {\"outlinewidth\": 0, \"ticks\": \"\"}}, \"type\": \"scatter3d\"}], \"scattercarpet\": [{\"marker\": {\"colorbar\": {\"outlinewidth\": 0, \"ticks\": \"\"}}, \"type\": \"scattercarpet\"}], \"scattergeo\": [{\"marker\": {\"colorbar\": {\"outlinewidth\": 0, \"ticks\": \"\"}}, \"type\": \"scattergeo\"}], \"scattergl\": [{\"marker\": {\"colorbar\": {\"outlinewidth\": 0, \"ticks\": \"\"}}, \"type\": \"scattergl\"}], \"scattermapbox\": [{\"marker\": {\"colorbar\": {\"outlinewidth\": 0, \"ticks\": \"\"}}, \"type\": \"scattermapbox\"}], \"scatterpolar\": [{\"marker\": {\"colorbar\": {\"outlinewidth\": 0, \"ticks\": \"\"}}, \"type\": \"scatterpolar\"}], \"scatterpolargl\": [{\"marker\": {\"colorbar\": {\"outlinewidth\": 0, \"ticks\": \"\"}}, \"type\": \"scatterpolargl\"}], \"scatterternary\": [{\"marker\": {\"colorbar\": {\"outlinewidth\": 0, \"ticks\": \"\"}}, \"type\": \"scatterternary\"}], \"surface\": [{\"colorbar\": {\"outlinewidth\": 0, \"ticks\": \"\"}, \"colorscale\": [[0.0, \"#0d0887\"], [0.1111111111111111, \"#46039f\"], [0.2222222222222222, \"#7201a8\"], [0.3333333333333333, \"#9c179e\"], [0.4444444444444444, \"#bd3786\"], [0.5555555555555556, \"#d8576b\"], [0.6666666666666666, \"#ed7953\"], [0.7777777777777778, \"#fb9f3a\"], [0.8888888888888888, \"#fdca26\"], [1.0, \"#f0f921\"]], \"type\": \"surface\"}], \"table\": [{\"cells\": {\"fill\": {\"color\": \"#EBF0F8\"}, \"line\": {\"color\": \"white\"}}, \"header\": {\"fill\": {\"color\": \"#C8D4E3\"}, \"line\": {\"color\": \"white\"}}, \"type\": \"table\"}]}, \"layout\": {\"annotationdefaults\": {\"arrowcolor\": \"#2a3f5f\", \"arrowhead\": 0, \"arrowwidth\": 1}, \"colorscale\": {\"diverging\": [[0, \"#8e0152\"], [0.1, \"#c51b7d\"], [0.2, \"#de77ae\"], [0.3, \"#f1b6da\"], [0.4, \"#fde0ef\"], [0.5, \"#f7f7f7\"], [0.6, \"#e6f5d0\"], [0.7, \"#b8e186\"], [0.8, \"#7fbc41\"], [0.9, \"#4d9221\"], [1, \"#276419\"]], \"sequential\": [[0.0, \"#0d0887\"], [0.1111111111111111, \"#46039f\"], [0.2222222222222222, \"#7201a8\"], [0.3333333333333333, \"#9c179e\"], [0.4444444444444444, \"#bd3786\"], [0.5555555555555556, \"#d8576b\"], [0.6666666666666666, \"#ed7953\"], [0.7777777777777778, \"#fb9f3a\"], [0.8888888888888888, \"#fdca26\"], [1.0, \"#f0f921\"]], \"sequentialminus\": [[0.0, \"#0d0887\"], [0.1111111111111111, \"#46039f\"], [0.2222222222222222, \"#7201a8\"], [0.3333333333333333, \"#9c179e\"], [0.4444444444444444, \"#bd3786\"], [0.5555555555555556, \"#d8576b\"], [0.6666666666666666, \"#ed7953\"], [0.7777777777777778, \"#fb9f3a\"], [0.8888888888888888, \"#fdca26\"], [1.0, \"#f0f921\"]]}, \"colorway\": [\"#636efa\", \"#EF553B\", \"#00cc96\", \"#ab63fa\", \"#FFA15A\", \"#19d3f3\", \"#FF6692\", \"#B6E880\", \"#FF97FF\", \"#FECB52\"], \"font\": {\"color\": \"#2a3f5f\"}, \"geo\": {\"bgcolor\": \"white\", \"lakecolor\": \"white\", \"landcolor\": \"#E5ECF6\", \"showlakes\": true, \"showland\": true, \"subunitcolor\": \"white\"}, \"hoverlabel\": {\"align\": \"left\"}, \"hovermode\": \"closest\", \"mapbox\": {\"style\": \"light\"}, \"paper_bgcolor\": \"white\", \"plot_bgcolor\": \"#E5ECF6\", \"polar\": {\"angularaxis\": {\"gridcolor\": \"white\", \"linecolor\": \"white\", \"ticks\": \"\"}, \"bgcolor\": \"#E5ECF6\", \"radialaxis\": {\"gridcolor\": \"white\", \"linecolor\": \"white\", \"ticks\": \"\"}}, \"scene\": {\"xaxis\": {\"backgroundcolor\": \"#E5ECF6\", \"gridcolor\": \"white\", \"gridwidth\": 2, \"linecolor\": \"white\", \"showbackground\": true, \"ticks\": \"\", \"zerolinecolor\": \"white\"}, \"yaxis\": {\"backgroundcolor\": \"#E5ECF6\", \"gridcolor\": \"white\", \"gridwidth\": 2, \"linecolor\": \"white\", \"showbackground\": true, \"ticks\": \"\", \"zerolinecolor\": \"white\"}, \"zaxis\": {\"backgroundcolor\": \"#E5ECF6\", \"gridcolor\": \"white\", \"gridwidth\": 2, \"linecolor\": \"white\", \"showbackground\": true, \"ticks\": \"\", \"zerolinecolor\": \"white\"}}, \"shapedefaults\": {\"line\": {\"color\": \"#2a3f5f\"}}, \"ternary\": {\"aaxis\": {\"gridcolor\": \"white\", \"linecolor\": \"white\", \"ticks\": \"\"}, \"baxis\": {\"gridcolor\": \"white\", \"linecolor\": \"white\", \"ticks\": \"\"}, \"bgcolor\": \"#E5ECF6\", \"caxis\": {\"gridcolor\": \"white\", \"linecolor\": \"white\", \"ticks\": \"\"}}, \"title\": {\"x\": 0.05}, \"xaxis\": {\"automargin\": true, \"gridcolor\": \"white\", \"linecolor\": \"white\", \"ticks\": \"\", \"zerolinecolor\": \"white\", \"zerolinewidth\": 2}, \"yaxis\": {\"automargin\": true, \"gridcolor\": \"white\", \"linecolor\": \"white\", \"ticks\": \"\", \"zerolinecolor\": \"white\", \"zerolinewidth\": 2}}}, \"title\": {\"text\": \"The volatility of \\u201ctalking about count\\u201d among 10 companies\"}, \"xaxis\": {\"title\": {\"text\": \"Companies name\"}}, \"yaxis\": {\"title\": {\"text\": \"Volatility(Using Standard Deviation)\"}}},\n",
       "                        {\"responsive\": true}\n",
       "                    ).then(function(){\n",
       "                            \n",
       "var gd = document.getElementById('53be28ea-da18-4c83-9691-b74f859163b5');\n",
       "var x = new MutationObserver(function (mutations, observer) {{\n",
       "        var display = window.getComputedStyle(gd).display;\n",
       "        if (!display || display === 'none') {{\n",
       "            console.log([gd, 'removed!']);\n",
       "            Plotly.purge(gd);\n",
       "            observer.disconnect();\n",
       "        }}\n",
       "}});\n",
       "\n",
       "// Listen for the removal of the full notebook cells\n",
       "var notebookContainer = gd.closest('#notebook-container');\n",
       "if (notebookContainer) {{\n",
       "    x.observe(notebookContainer, {childList: true});\n",
       "}}\n",
       "\n",
       "// Listen for the clearing of the current output cell\n",
       "var outputEl = gd.closest('.output');\n",
       "if (outputEl) {{\n",
       "    x.observe(outputEl, {childList: true});\n",
       "}}\n",
       "\n",
       "                        })\n",
       "                };\n",
       "                });\n",
       "            </script>\n",
       "        </div>"
      ]
     },
     "metadata": {},
     "output_type": "display_data"
    }
   ],
   "source": [
    "#First plot\n",
    "trace0 = go.Bar(\n",
    "    x = Count_Obj[\"talking_about_count\"].index.values[:10],\n",
    "    y = Count_Obj[\"talking_about_count\"].values[:10],\n",
    ")\n",
    "\n",
    "data = [trace0]\n",
    "\n",
    "layout = go.Layout(\n",
    "    title='The volatility of “talking about count” among 10 companies',\n",
    "    xaxis=dict(title='Companies name'),\n",
    "    yaxis=dict(title='Volatility(Using Standard Deviation)'),\n",
    "    barmode='group'\n",
    ")\n",
    "\n",
    "\n",
    "fig = go.Figure(data=data, layout=layout)\n",
    "\n",
    "py.iplot(fig, filename='Companies-Grouped')"
   ]
  },
  {
   "cell_type": "code",
   "execution_count": 53,
   "metadata": {},
   "outputs": [],
   "source": [
    "'''\n",
    "    Because the limitation of screen, I decide only show 10 companies with highest volatility of \"talking about count\".\n",
    "    Comparing companies with highest volatility of “talking about count”,\n",
    "    we can find that the company with the highest volatility is CBSNews\n",
    "'''"
   ]
  },
  {
   "cell_type": "code",
   "execution_count": 82,
   "metadata": {},
   "outputs": [],
   "source": [
    "CBSObj = groupObj.get_group('CBSNews')\n",
    "dates = pd.to_datetime(CBSObj[\"time\"].values)"
   ]
  },
  {
   "cell_type": "code",
   "execution_count": 83,
   "metadata": {},
   "outputs": [
    {
     "data": {
      "application/vnd.plotly.v1+json": {
       "config": {
        "linkText": "Export to plot.ly",
        "plotlyServerURL": "https://plot.ly",
        "showLink": false
       },
       "data": [
        {
         "type": "scatter",
         "x": [
          "2016-08-20T04:00:00+00:00",
          "2016-08-21T04:00:00+00:00",
          "2016-08-22T04:00:00+00:00",
          "2016-08-23T04:00:00+00:00",
          "2016-08-24T04:00:00+00:00",
          "2016-08-25T04:00:00+00:00",
          "2016-08-26T04:00:00+00:00",
          "2016-08-27T04:00:00+00:00",
          "2016-08-28T04:00:00+00:00",
          "2016-08-29T04:00:00+00:00",
          "2016-08-30T04:00:00+00:00",
          "2016-08-31T04:00:00+00:00",
          "2016-09-01T04:00:00+00:00",
          "2016-09-02T04:00:00+00:00",
          "2016-09-03T04:00:00+00:00",
          "2016-09-04T04:00:00+00:00",
          "2016-09-05T04:00:00+00:00",
          "2016-09-06T04:00:00+00:00",
          "2016-09-07T04:00:00+00:00",
          "2016-09-08T04:00:00+00:00",
          "2016-09-09T04:00:00+00:00",
          "2016-09-10T04:00:00+00:00",
          "2016-09-11T04:00:00+00:00",
          "2016-09-12T04:00:00+00:00",
          "2016-09-13T04:00:00+00:00",
          "2016-09-14T04:00:00+00:00",
          "2016-09-15T04:00:00+00:00",
          "2016-09-16T04:00:00+00:00",
          "2016-09-17T04:00:00+00:00",
          "2016-09-18T04:00:00+00:00",
          "2016-09-19T04:00:00+00:00",
          "2016-09-20T04:00:00+00:00",
          "2016-09-21T04:00:00+00:00",
          "2016-09-22T04:00:00+00:00",
          "2016-09-23T04:00:00+00:00",
          "2016-09-24T04:00:00+00:00",
          "2016-09-25T04:00:00+00:00",
          "2016-09-26T04:00:00+00:00",
          "2016-09-27T04:00:00+00:00",
          "2016-09-28T04:00:00+00:00",
          "2016-09-29T04:00:00+00:00",
          "2016-09-30T04:00:00+00:00",
          "2016-10-01T04:00:00+00:00",
          "2016-10-02T04:00:00+00:00",
          "2016-10-03T04:00:00+00:00",
          "2016-10-04T04:00:00+00:00",
          "2016-10-05T04:00:00+00:00",
          "2016-10-06T04:00:00+00:00",
          "2016-10-07T04:00:00+00:00",
          "2016-10-08T04:00:00+00:00",
          "2016-10-09T04:00:00+00:00",
          "2016-10-10T04:00:00+00:00",
          "2016-10-11T04:00:00+00:00",
          "2016-10-12T04:00:00+00:00",
          "2016-10-13T04:00:00+00:00",
          "2016-10-14T04:00:00+00:00",
          "2016-10-15T04:00:00+00:00",
          "2016-10-16T04:00:00+00:00",
          "2016-10-17T04:00:00+00:00",
          "2016-10-18T04:00:00+00:00",
          "2016-10-19T04:00:00+00:00",
          "2016-10-20T04:00:00+00:00",
          "2016-10-21T04:00:00+00:00",
          "2016-10-22T04:00:00+00:00",
          "2016-10-23T04:00:00+00:00",
          "2016-10-24T04:00:00+00:00",
          "2016-10-25T04:00:00+00:00",
          "2016-10-26T04:00:00+00:00",
          "2016-10-27T04:00:00+00:00",
          "2016-10-28T04:00:00+00:00",
          "2016-10-29T04:00:00+00:00",
          "2016-10-30T04:00:00+00:00",
          "2016-10-31T04:00:00+00:00",
          "2016-11-01T04:00:00+00:00",
          "2016-11-02T04:00:00+00:00",
          "2016-11-03T04:00:00+00:00",
          "2016-11-04T04:00:00+00:00",
          "2016-11-05T04:00:00+00:00",
          "2016-11-06T04:00:00+00:00",
          "2016-11-07T05:00:00+00:00",
          "2016-11-08T05:00:00+00:00",
          "2016-11-09T05:00:00+00:00",
          "2016-11-10T05:00:00+00:00",
          "2016-11-11T05:00:00+00:00",
          "2016-11-12T05:00:00+00:00",
          "2016-11-13T05:00:00+00:00",
          "2016-11-14T05:00:00+00:00",
          "2016-11-15T05:00:00+00:00",
          "2016-11-16T05:00:00+00:00",
          "2016-11-17T05:00:00+00:00",
          "2016-11-18T05:00:00+00:00",
          "2016-11-19T05:00:00+00:00",
          "2016-11-20T05:00:00+00:00",
          "2016-11-21T05:00:00+00:00",
          "2016-11-22T05:00:00+00:00",
          "2016-11-23T05:00:00+00:00",
          "2016-11-24T05:00:00+00:00",
          "2016-11-25T05:00:00+00:00",
          "2016-11-26T05:00:00+00:00",
          "2016-11-27T05:00:00+00:00",
          "2016-11-28T05:00:00+00:00",
          "2016-11-29T05:00:00+00:00",
          "2016-11-30T05:00:00+00:00",
          "2016-12-01T05:00:00+00:00",
          "2016-12-02T05:00:00+00:00",
          "2016-12-03T05:00:00+00:00",
          "2016-12-04T05:00:00+00:00",
          "2016-12-05T05:00:00+00:00",
          "2016-12-06T05:00:00+00:00",
          "2016-12-07T05:00:00+00:00",
          "2016-12-08T05:00:00+00:00",
          "2016-12-09T05:00:00+00:00",
          "2016-12-10T05:00:00+00:00",
          "2016-12-11T05:00:00+00:00",
          "2016-12-12T05:00:00+00:00",
          "2016-12-13T05:00:00+00:00",
          "2016-12-14T05:00:00+00:00",
          "2016-12-15T05:00:00+00:00",
          "2016-12-16T05:00:00+00:00",
          "2016-12-17T05:00:00+00:00",
          "2016-12-18T05:00:00+00:00",
          "2016-12-19T05:00:00+00:00",
          "2016-12-20T05:00:00+00:00",
          "2016-12-21T05:00:00+00:00",
          "2016-12-22T05:00:00+00:00",
          "2016-12-23T05:00:00+00:00",
          "2016-12-24T05:00:00+00:00",
          "2016-12-25T05:00:00+00:00",
          "2016-12-26T05:00:00+00:00",
          "2016-12-27T05:00:00+00:00",
          "2016-12-28T05:00:00+00:00",
          "2016-12-29T05:00:00+00:00",
          "2016-12-30T05:00:00+00:00",
          "2016-12-31T05:00:00+00:00",
          "2017-01-01T05:00:00+00:00",
          "2017-01-02T05:00:00+00:00",
          "2017-01-03T05:00:00+00:00",
          "2017-01-04T05:00:00+00:00",
          "2017-01-05T05:00:00+00:00",
          "2017-01-06T05:00:00+00:00",
          "2017-01-07T05:00:00+00:00",
          "2017-01-08T05:00:00+00:00",
          "2017-01-09T05:00:00+00:00",
          "2017-01-10T05:00:00+00:00",
          "2017-01-11T05:00:00+00:00",
          "2017-01-12T05:00:00+00:00",
          "2017-01-13T05:00:00+00:00",
          "2017-01-14T05:00:00+00:00",
          "2017-01-15T05:00:00+00:00",
          "2017-01-16T05:00:00+00:00",
          "2017-01-17T05:00:00+00:00",
          "2017-01-18T05:00:00+00:00",
          "2017-01-19T05:00:00+00:00",
          "2017-01-20T05:00:00+00:00",
          "2017-01-21T05:00:00+00:00",
          "2017-01-22T05:00:00+00:00",
          "2017-01-23T05:00:00+00:00",
          "2017-01-24T05:00:00+00:00",
          "2017-01-25T05:00:00+00:00",
          "2017-01-26T05:00:00+00:00",
          "2017-01-27T05:00:00+00:00",
          "2017-01-28T05:00:00+00:00",
          "2017-01-29T05:00:00+00:00",
          "2017-01-30T05:00:00+00:00",
          "2017-01-31T05:00:00+00:00",
          "2017-02-01T05:00:00+00:00",
          "2017-02-02T05:00:00+00:00",
          "2017-02-03T05:00:00+00:00",
          "2017-02-04T05:00:00+00:00",
          "2017-02-05T05:00:00+00:00",
          "2017-02-06T05:00:00+00:00",
          "2017-02-07T05:00:00+00:00",
          "2017-02-08T05:00:00+00:00",
          "2017-02-09T05:00:00+00:00",
          "2017-02-10T05:00:00+00:00",
          "2017-02-11T05:00:00+00:00",
          "2017-02-12T05:00:00+00:00",
          "2017-02-13T05:00:00+00:00",
          "2017-02-14T05:00:00+00:00",
          "2017-02-15T05:00:00+00:00",
          "2017-02-16T05:00:00+00:00",
          "2017-02-17T05:00:00+00:00",
          "2017-02-18T05:00:00+00:00",
          "2017-02-19T05:00:00+00:00",
          "2017-02-20T05:00:00+00:00",
          "2017-02-21T05:00:00+00:00",
          "2017-02-22T05:00:00+00:00",
          "2017-02-23T05:00:00+00:00",
          "2017-02-24T05:00:00+00:00",
          "2017-02-25T05:00:00+00:00",
          "2017-02-26T05:00:00+00:00",
          "2017-02-27T05:00:00+00:00",
          "2017-02-28T05:00:00+00:00",
          "2017-03-01T05:00:00+00:00",
          "2017-03-02T05:00:00+00:00",
          "2017-03-03T05:00:00+00:00",
          "2017-03-04T05:00:00+00:00",
          "2017-03-05T05:00:00+00:00",
          "2017-03-06T05:00:00+00:00",
          "2017-03-07T05:00:00+00:00",
          "2017-03-08T05:00:00+00:00",
          "2017-03-09T05:00:00+00:00",
          "2017-03-10T05:00:00+00:00",
          "2017-03-11T05:00:00+00:00",
          "2017-03-12T05:00:00+00:00",
          "2017-03-13T04:00:00+00:00",
          "2017-03-14T04:00:00+00:00",
          "2017-03-15T04:00:00+00:00",
          "2017-03-16T04:00:00+00:00",
          "2017-03-17T04:00:00+00:00",
          "2017-03-18T04:00:00+00:00",
          "2017-03-19T04:00:00+00:00",
          "2017-03-20T04:00:00+00:00",
          "2017-03-21T04:00:00+00:00",
          "2017-03-22T04:00:00+00:00",
          "2017-03-23T04:00:00+00:00",
          "2017-03-24T04:00:00+00:00",
          "2017-03-25T04:00:00+00:00",
          "2017-03-26T04:00:00+00:00",
          "2017-03-27T04:00:00+00:00",
          "2017-03-28T04:00:00+00:00",
          "2017-03-29T04:00:00+00:00",
          "2017-03-30T04:00:00+00:00",
          "2017-03-31T04:00:00+00:00",
          "2017-04-01T04:00:00+00:00",
          "2017-04-02T04:00:00+00:00",
          "2017-04-03T04:00:00+00:00",
          "2017-04-04T04:00:00+00:00",
          "2017-04-05T04:00:00+00:00",
          "2017-04-06T04:00:00+00:00",
          "2017-04-07T04:00:00+00:00",
          "2017-04-08T04:00:00+00:00",
          "2017-04-09T04:00:00+00:00",
          "2017-04-10T04:00:00+00:00",
          "2017-04-11T04:00:00+00:00",
          "2017-04-12T04:00:00+00:00",
          "2017-04-13T04:00:00+00:00",
          "2017-04-14T04:00:00+00:00",
          "2017-04-15T04:00:00+00:00",
          "2017-04-16T04:00:00+00:00",
          "2017-04-17T04:00:00+00:00",
          "2017-04-18T04:00:00+00:00",
          "2017-04-19T04:00:00+00:00",
          "2017-04-20T04:00:00+00:00",
          "2017-04-21T04:00:00+00:00",
          "2017-04-22T04:00:00+00:00",
          "2017-04-23T04:00:00+00:00",
          "2017-04-24T04:00:00+00:00",
          "2017-04-25T04:00:00+00:00",
          "2017-04-26T04:00:00+00:00",
          "2017-04-27T04:00:00+00:00",
          "2017-04-28T04:00:00+00:00",
          "2017-04-29T04:00:00+00:00",
          "2017-04-30T04:00:00+00:00",
          "2017-05-01T04:00:00+00:00",
          "2017-05-02T04:00:00+00:00",
          "2017-05-03T04:00:00+00:00",
          "2017-05-04T04:00:00+00:00",
          "2017-05-05T04:00:00+00:00",
          "2017-05-06T04:00:00+00:00",
          "2017-05-07T04:00:00+00:00",
          "2017-05-08T04:00:00+00:00",
          "2017-05-09T04:00:00+00:00",
          "2017-05-10T04:00:00+00:00",
          "2017-05-11T04:00:00+00:00",
          "2017-05-12T04:00:00+00:00",
          "2017-05-13T04:00:00+00:00",
          "2017-05-14T04:00:00+00:00",
          "2017-05-15T04:00:00+00:00",
          "2017-05-16T04:00:00+00:00",
          "2017-05-17T04:00:00+00:00",
          "2017-05-18T04:00:00+00:00",
          "2017-05-19T04:00:00+00:00",
          "2017-05-20T04:00:00+00:00",
          "2017-05-21T04:00:00+00:00",
          "2017-05-22T04:00:00+00:00",
          "2017-05-23T04:00:00+00:00",
          "2017-05-24T04:00:00+00:00",
          "2017-05-25T04:00:00+00:00",
          "2017-05-26T04:00:00+00:00",
          "2017-05-27T04:00:00+00:00",
          "2017-05-28T04:00:00+00:00",
          "2017-05-29T04:00:00+00:00",
          "2017-05-30T04:00:00+00:00",
          "2017-05-31T04:00:00+00:00",
          "2017-06-01T04:00:00+00:00",
          "2017-06-02T04:00:00+00:00",
          "2017-06-03T04:00:00+00:00",
          "2017-06-04T04:00:00+00:00",
          "2017-06-05T04:00:00+00:00",
          "2017-06-06T04:00:00+00:00",
          "2017-06-07T04:00:00+00:00",
          "2017-06-08T04:00:00+00:00",
          "2017-06-09T04:00:00+00:00",
          "2017-06-10T04:00:00+00:00",
          "2017-06-11T04:00:00+00:00",
          "2017-06-12T04:00:00+00:00",
          "2017-06-13T04:00:00+00:00",
          "2017-06-14T04:00:00+00:00",
          "2017-06-15T04:00:00+00:00",
          "2017-06-16T04:00:00+00:00",
          "2017-06-17T04:00:00+00:00",
          "2017-06-18T04:00:00+00:00",
          "2017-06-19T04:00:00+00:00",
          "2017-06-20T04:00:00+00:00",
          "2017-06-21T04:00:00+00:00",
          "2017-06-22T04:00:00+00:00",
          "2017-06-23T04:00:00+00:00",
          "2017-06-24T04:00:00+00:00",
          "2017-06-25T04:00:00+00:00",
          "2017-06-26T04:00:00+00:00",
          "2017-06-27T04:00:00+00:00",
          "2017-06-28T04:00:00+00:00",
          "2017-06-29T04:00:00+00:00",
          "2017-06-30T04:00:00+00:00",
          "2017-07-01T04:00:00+00:00",
          "2017-07-02T04:00:00+00:00",
          "2017-07-03T04:00:00+00:00",
          "2017-07-04T04:00:00+00:00",
          "2017-07-05T04:00:00+00:00",
          "2017-07-06T04:00:00+00:00",
          "2017-07-07T04:00:00+00:00",
          "2017-07-08T04:00:00+00:00",
          "2017-07-09T04:00:00+00:00",
          "2017-07-10T04:00:00+00:00",
          "2017-07-11T04:00:00+00:00",
          "2017-07-12T04:00:00+00:00",
          "2017-07-13T04:00:00+00:00",
          "2017-07-14T04:00:00+00:00",
          "2017-07-15T04:00:00+00:00",
          "2017-07-16T04:00:00+00:00",
          "2017-07-17T04:00:00+00:00",
          "2017-07-18T04:00:00+00:00",
          "2017-07-19T04:00:00+00:00",
          "2017-07-20T04:00:00+00:00",
          "2017-07-21T04:00:00+00:00",
          "2017-07-22T04:00:00+00:00",
          "2017-07-23T04:00:00+00:00",
          "2017-07-24T04:00:00+00:00",
          "2017-07-25T04:00:00+00:00",
          "2017-07-26T04:00:00+00:00",
          "2017-07-27T04:00:00+00:00",
          "2017-07-28T04:00:00+00:00",
          "2017-07-29T04:00:00+00:00",
          "2017-07-30T04:00:00+00:00",
          "2017-07-31T04:00:00+00:00",
          "2017-08-01T04:00:00+00:00",
          "2017-08-02T04:00:00+00:00",
          "2017-08-03T04:00:00+00:00",
          "2017-08-04T04:00:00+00:00",
          "2017-08-05T04:00:00+00:00",
          "2017-08-06T04:00:00+00:00",
          "2017-08-07T04:00:00+00:00",
          "2017-08-08T04:00:00+00:00",
          "2017-08-09T04:00:00+00:00",
          "2017-08-10T04:00:00+00:00",
          "2017-08-11T04:00:00+00:00",
          "2017-08-12T04:00:00+00:00",
          "2017-08-13T04:00:00+00:00",
          "2017-08-14T04:00:00+00:00",
          "2017-08-15T04:00:00+00:00",
          "2017-08-16T04:00:00+00:00",
          "2017-08-17T04:00:00+00:00",
          "2017-08-18T04:00:00+00:00",
          "2017-08-19T04:00:00+00:00",
          "2017-08-20T04:00:00+00:00",
          "2017-08-21T04:00:00+00:00",
          "2017-08-22T04:00:00+00:00",
          "2017-08-23T04:00:00+00:00",
          "2017-08-24T04:00:00+00:00",
          "2017-08-25T04:00:00+00:00",
          "2017-08-26T04:00:00+00:00",
          "2017-08-27T04:00:00+00:00",
          "2017-08-28T04:00:00+00:00",
          "2017-08-29T04:00:00+00:00",
          "2017-08-30T04:00:00+00:00",
          "2017-08-31T04:00:00+00:00",
          "2017-09-01T04:00:00+00:00",
          "2017-09-02T04:00:00+00:00",
          "2017-09-03T04:00:00+00:00",
          "2017-09-04T04:00:00+00:00",
          "2017-09-05T04:00:00+00:00",
          "2017-09-06T04:00:00+00:00",
          "2017-09-07T04:00:00+00:00",
          "2017-09-08T04:00:00+00:00",
          "2017-09-09T04:00:00+00:00",
          "2017-09-10T04:00:00+00:00",
          "2017-09-11T04:00:00+00:00",
          "2017-09-12T04:00:00+00:00",
          "2017-09-13T04:00:00+00:00",
          "2017-09-14T04:00:00+00:00",
          "2017-09-15T04:00:00+00:00",
          "2017-09-16T04:00:00+00:00",
          "2017-09-17T04:00:00+00:00",
          "2017-09-18T04:00:00+00:00",
          "2017-09-19T04:00:00+00:00",
          "2017-09-20T04:00:00+00:00",
          "2017-09-21T04:00:00+00:00",
          "2017-09-22T04:00:00+00:00",
          "2017-09-23T04:00:00+00:00",
          "2017-09-24T04:00:00+00:00",
          "2017-09-25T04:00:00+00:00",
          "2017-09-26T04:00:00+00:00",
          "2017-09-27T04:00:00+00:00",
          "2017-09-28T04:00:00+00:00",
          "2017-09-29T04:00:00+00:00",
          "2017-09-30T04:00:00+00:00",
          "2017-10-01T04:00:00+00:00",
          "2017-10-02T04:00:00+00:00",
          "2017-10-03T04:00:00+00:00",
          "2017-10-04T04:00:00+00:00",
          "2017-10-05T04:00:00+00:00",
          "2017-10-06T04:00:00+00:00",
          "2017-10-07T04:00:00+00:00",
          "2017-10-08T04:00:00+00:00",
          "2017-10-09T04:00:00+00:00",
          "2017-10-10T04:00:00+00:00",
          "2017-10-11T04:00:00+00:00",
          "2017-10-12T04:00:00+00:00",
          "2017-10-13T04:00:00+00:00",
          "2017-10-14T04:00:00+00:00",
          "2017-10-15T04:00:00+00:00",
          "2017-10-16T04:00:00+00:00",
          "2017-10-17T04:00:00+00:00",
          "2017-10-18T04:00:00+00:00",
          "2017-10-19T04:00:00+00:00",
          "2017-10-20T04:00:00+00:00",
          "2017-10-21T04:00:00+00:00",
          "2017-10-22T04:00:00+00:00",
          "2017-10-23T04:00:00+00:00",
          "2017-10-24T04:00:00+00:00",
          "2017-10-25T04:00:00+00:00",
          "2017-10-26T04:00:00+00:00",
          "2017-10-27T04:00:00+00:00",
          "2017-10-28T04:00:00+00:00",
          "2017-10-29T04:00:00+00:00",
          "2017-10-30T04:00:00+00:00",
          "2017-10-31T04:00:00+00:00",
          "2017-11-01T04:00:00+00:00",
          "2017-11-02T04:00:00+00:00",
          "2017-11-03T04:00:00+00:00",
          "2017-11-04T04:00:00+00:00",
          "2017-11-05T04:00:00+00:00",
          "2017-11-06T05:00:00+00:00",
          "2017-11-07T05:00:00+00:00",
          "2017-11-08T05:00:00+00:00",
          "2017-11-09T05:00:00+00:00",
          "2017-11-10T05:00:00+00:00",
          "2017-11-11T05:00:00+00:00",
          "2017-11-12T05:00:00+00:00",
          "2017-11-13T05:00:00+00:00",
          "2017-11-14T05:00:00+00:00",
          "2017-11-15T05:00:00+00:00",
          "2017-11-16T05:00:00+00:00",
          "2017-11-17T05:00:00+00:00",
          "2017-11-18T05:00:00+00:00",
          "2017-11-19T05:00:00+00:00",
          "2017-11-20T05:00:00+00:00",
          "2017-11-21T05:00:00+00:00",
          "2017-11-22T05:00:00+00:00",
          "2017-11-23T05:00:00+00:00",
          "2017-11-24T05:00:00+00:00",
          "2017-11-25T05:00:00+00:00",
          "2017-11-26T05:00:00+00:00",
          "2017-11-27T05:00:00+00:00",
          "2017-11-28T05:00:00+00:00",
          "2017-11-29T05:00:00+00:00",
          "2017-11-30T05:00:00+00:00",
          "2017-12-01T05:00:00+00:00",
          "2017-12-02T05:00:00+00:00",
          "2017-12-03T05:00:00+00:00",
          "2017-12-04T05:00:00+00:00",
          "2017-12-05T05:00:00+00:00",
          "2017-12-06T05:00:00+00:00",
          "2017-12-07T05:00:00+00:00",
          "2017-12-08T05:00:00+00:00",
          "2017-12-09T05:00:00+00:00",
          "2017-12-10T05:00:00+00:00",
          "2017-12-11T05:00:00+00:00",
          "2017-12-12T05:00:00+00:00",
          "2017-12-13T05:00:00+00:00",
          "2017-12-14T05:00:00+00:00",
          "2017-12-15T05:00:00+00:00",
          "2017-12-16T05:00:00+00:00",
          "2017-12-17T05:00:00+00:00",
          "2017-12-18T05:00:00+00:00",
          "2017-12-19T05:00:00+00:00",
          "2017-12-20T05:00:00+00:00",
          "2017-12-21T05:00:00+00:00",
          "2017-12-22T05:00:00+00:00",
          "2017-12-23T05:00:00+00:00",
          "2017-12-24T05:00:00+00:00",
          "2017-12-25T05:00:00+00:00",
          "2017-12-26T05:00:00+00:00",
          "2017-12-27T05:00:00+00:00",
          "2017-12-28T05:00:00+00:00",
          "2017-12-29T05:00:00+00:00",
          "2017-12-30T05:00:00+00:00",
          "2017-12-31T05:00:00+00:00",
          "2018-01-01T05:00:00+00:00",
          "2018-01-02T05:00:00+00:00",
          "2018-01-03T05:00:00+00:00",
          "2018-01-04T05:00:00+00:00",
          "2018-01-05T05:00:00+00:00",
          "2018-01-06T05:00:00+00:00",
          "2018-01-07T05:00:00+00:00",
          "2018-01-08T05:00:00+00:00",
          "2018-01-09T05:00:00+00:00",
          "2018-01-10T05:00:00+00:00",
          "2018-01-11T05:00:00+00:00",
          "2018-01-12T05:00:00+00:00",
          "2018-01-13T05:00:00+00:00",
          "2018-01-14T05:00:00+00:00",
          "2018-01-15T05:00:00+00:00",
          "2018-01-16T05:00:00+00:00",
          "2018-01-17T05:00:00+00:00",
          "2018-01-18T05:00:00+00:00",
          "2018-01-19T05:00:00+00:00",
          "2018-01-20T05:00:00+00:00",
          "2018-01-21T05:00:00+00:00",
          "2018-01-22T05:00:00+00:00",
          "2018-01-23T05:00:00+00:00",
          "2018-01-24T05:00:00+00:00",
          "2018-01-25T05:00:00+00:00",
          "2018-01-26T05:00:00+00:00",
          "2018-01-27T05:00:00+00:00",
          "2018-01-28T05:00:00+00:00",
          "2018-01-29T05:00:00+00:00",
          "2018-01-30T05:00:00+00:00",
          "2018-01-31T05:00:00+00:00",
          "2018-02-01T05:00:00+00:00",
          "2018-02-02T05:00:00+00:00",
          "2018-02-03T05:00:00+00:00",
          "2018-02-04T05:00:00+00:00",
          "2018-02-05T05:00:00+00:00",
          "2018-02-06T05:00:00+00:00",
          "2018-02-07T05:00:00+00:00",
          "2018-02-08T05:00:00+00:00",
          "2018-02-09T05:00:00+00:00",
          "2018-02-10T05:00:00+00:00",
          "2018-02-11T05:00:00+00:00",
          "2018-02-12T05:00:00+00:00",
          "2018-02-13T05:00:00+00:00",
          "2018-02-14T05:00:00+00:00",
          "2018-02-15T05:00:00+00:00",
          "2018-02-16T05:00:00+00:00",
          "2018-02-17T05:00:00+00:00",
          "2018-02-18T05:00:00+00:00",
          "2018-02-19T05:00:00+00:00",
          "2018-02-20T05:00:00+00:00",
          "2018-02-21T05:00:00+00:00",
          "2018-02-22T05:00:00+00:00",
          "2018-02-23T05:00:00+00:00",
          "2018-02-24T05:00:00+00:00",
          "2018-02-25T05:00:00+00:00",
          "2018-02-26T05:00:00+00:00",
          "2018-02-27T05:00:00+00:00",
          "2018-02-28T05:00:00+00:00",
          "2018-03-01T05:00:00+00:00",
          "2018-03-02T05:00:00+00:00",
          "2018-03-03T05:00:00+00:00",
          "2018-03-04T05:00:00+00:00",
          "2018-03-05T05:00:00+00:00",
          "2018-03-06T05:00:00+00:00",
          "2018-03-07T05:00:00+00:00",
          "2018-03-08T05:00:00+00:00",
          "2018-03-09T05:00:00+00:00",
          "2018-03-10T05:00:00+00:00",
          "2018-03-11T05:00:00+00:00",
          "2018-03-12T04:00:00+00:00",
          "2018-03-13T04:00:00+00:00",
          "2018-03-14T04:00:00+00:00",
          "2018-03-15T04:00:00+00:00",
          "2018-03-16T04:00:00+00:00",
          "2018-03-17T04:00:00+00:00",
          "2018-03-18T04:00:00+00:00",
          "2018-03-19T04:00:00+00:00",
          "2018-03-20T04:00:00+00:00",
          "2018-03-21T04:00:00+00:00",
          "2018-03-22T04:00:00+00:00",
          "2018-03-23T04:00:00+00:00",
          "2018-03-24T04:00:00+00:00",
          "2018-03-25T04:00:00+00:00",
          "2018-03-26T04:00:00+00:00",
          "2018-03-27T04:00:00+00:00",
          "2018-03-28T04:00:00+00:00",
          "2018-03-29T04:00:00+00:00",
          "2018-03-30T04:00:00+00:00",
          "2018-03-31T04:00:00+00:00",
          "2018-04-01T04:00:00+00:00",
          "2018-04-02T04:00:00+00:00",
          "2018-04-03T04:00:00+00:00",
          "2018-04-04T04:00:00+00:00",
          "2018-04-05T04:00:00+00:00",
          "2018-04-06T04:00:00+00:00",
          "2018-04-07T04:00:00+00:00",
          "2018-04-08T04:00:00+00:00",
          "2018-04-09T04:00:00+00:00",
          "2018-04-10T04:00:00+00:00",
          "2018-04-11T04:00:00+00:00",
          "2018-04-12T04:00:00+00:00",
          "2018-04-17T04:00:00+00:00",
          "2018-04-18T04:00:00+00:00",
          "2018-04-19T04:00:00+00:00",
          "2018-04-20T04:00:00+00:00",
          "2018-04-22T04:00:00+00:00",
          "2018-04-23T04:00:00+00:00",
          "2018-04-24T04:00:00+00:00",
          "2018-04-25T04:00:00+00:00",
          "2018-04-26T04:00:00+00:00",
          "2018-04-27T04:00:00+00:00",
          "2018-04-28T04:00:00+00:00",
          "2018-04-29T04:00:00+00:00",
          "2018-04-30T04:00:00+00:00",
          "2018-05-01T04:00:00+00:00",
          "2018-05-02T04:00:00+00:00",
          "2018-05-03T04:00:00+00:00",
          "2018-05-04T04:00:00+00:00",
          "2018-05-05T04:00:00+00:00",
          "2018-05-06T04:00:00+00:00",
          "2018-05-07T04:00:00+00:00",
          "2018-05-08T04:00:00+00:00",
          "2018-05-09T04:00:00+00:00",
          "2018-05-10T04:00:00+00:00",
          "2018-05-11T04:00:00+00:00",
          "2018-05-12T04:00:00+00:00",
          "2018-05-13T04:00:00+00:00",
          "2018-05-14T04:00:00+00:00",
          "2018-05-15T04:00:00+00:00",
          "2018-05-16T04:00:00+00:00",
          "2018-05-17T04:00:00+00:00",
          "2018-05-18T04:00:00+00:00",
          "2018-05-19T04:00:00+00:00",
          "2018-05-20T04:00:00+00:00",
          "2018-05-21T04:00:00+00:00",
          "2018-05-22T04:00:00+00:00",
          "2018-05-23T04:00:00+00:00",
          "2018-05-26T04:00:00+00:00",
          "2018-05-27T04:00:00+00:00",
          "2018-05-28T04:00:00+00:00",
          "2018-05-29T04:00:00+00:00",
          "2018-05-31T04:00:00+00:00",
          "2018-06-02T04:00:00+00:00",
          "2018-06-04T04:00:00+00:00",
          "2018-06-06T04:00:00+00:00",
          "2018-06-08T04:00:00+00:00",
          "2018-06-13T04:00:00+00:00",
          "2018-06-25T04:00:00+00:00",
          "2018-07-05T04:00:00+00:00",
          "2018-07-11T04:00:00+00:00",
          "2018-07-14T04:00:00+00:00",
          "2018-07-16T04:00:00+00:00"
         ],
         "y": [
          342679,
          574285,
          605538,
          615416,
          849424,
          920690,
          950981,
          863562,
          743376,
          726296,
          637947,
          491167,
          488102,
          545988,
          611246,
          670553,
          711452,
          702132,
          701436,
          647940,
          852667,
          866584,
          812653,
          837309,
          804496,
          814649,
          826194,
          696304,
          510208,
          483653,
          526010,
          451134,
          497915,
          495234,
          521199,
          509929,
          478461,
          470973,
          490803,
          463385,
          464367,
          542429,
          1089009,
          1089009,
          3934618,
          4448142,
          4595924,
          4533209,
          4497202,
          3833755,
          2103909,
          934229,
          388488,
          120644,
          33258,
          34443,
          210997,
          567454,
          1064795,
          1595209,
          2327070,
          2651504,
          2897246,
          2903442,
          2726252,
          2399288,
          1968192,
          1632943,
          1451867,
          1288569,
          1182402,
          1055058,
          913605,
          778069,
          702072,
          611681,
          637956,
          630020,
          730294,
          810771,
          828044,
          858583,
          943196,
          1145564,
          1181057,
          1112886,
          1066930,
          1058182,
          1048525,
          1031396,
          743567,
          722289,
          789112,
          1399884,
          1491053,
          1696434,
          1892353,
          2018784,
          2057548,
          2059916,
          1767234,
          1484188,
          1236413,
          1054527,
          1032643,
          1032643,
          1166026,
          1259884,
          1386315,
          1510121,
          1510121,
          1506402,
          1450363,
          1335940,
          1162996,
          991384,
          857381,
          705163,
          705163,
          638017,
          621333,
          617355,
          624275,
          682103,
          681336,
          796243,
          871798,
          896876,
          931533,
          922439,
          817852,
          697235,
          697235,
          679477,
          681400,
          654498,
          694956,
          711842,
          743866,
          689370,
          594801,
          597509,
          589754,
          574512,
          602828,
          766332,
          957107,
          971634,
          1094321,
          1339224,
          1259913,
          1617594,
          1601130,
          1589711,
          1777960,
          2635707,
          3185033,
          3356144,
          3233858,
          3277262,
          3417132,
          3043174,
          2121355,
          1693793,
          1494965,
          1348755,
          1145322,
          1045706,
          1036680,
          1005983,
          935230,
          924156,
          881328,
          891734,
          775164,
          775164,
          720867,
          647866,
          574098,
          574098,
          516194,
          2895427,
          3948221,
          3948221,
          4090960,
          4206144,
          4358821,
          2755268,
          1626134,
          1403896,
          1403896,
          1395499,
          1340770,
          1235993,
          1089484,
          983078,
          832704,
          706700,
          617079,
          554717,
          482333,
          435858,
          473370,
          493505,
          493505,
          485742,
          474002,
          555624,
          624923,
          641729,
          753607,
          753607,
          810316,
          876295,
          818839,
          871946,
          918672,
          999283,
          999283,
          1063721,
          1198317,
          1256092,
          1300998,
          1323978,
          1283495,
          1189860,
          1024626,
          847097,
          678097,
          595642,
          541468,
          690525,
          674777,
          664896,
          651484,
          641992,
          719517,
          561415,
          546611,
          562714,
          571858,
          0,
          575652,
          558548,
          636668,
          777047,
          824098,
          909706,
          930757,
          920526,
          872724,
          729016,
          581193,
          466924,
          386697,
          333784,
          330694,
          337014,
          359548,
          358883,
          371326,
          383497,
          380029,
          396195,
          424479,
          425196,
          431504,
          426186,
          414222,
          404772,
          358495,
          382617,
          403815,
          413372,
          408179,
          412235,
          393150,
          549280,
          529651,
          566465,
          603456,
          655718,
          685575,
          575937,
          536879,
          523694,
          532128,
          542799,
          545554,
          555521,
          559800,
          543143,
          514308,
          411087,
          378020,
          345632,
          367605,
          366866,
          698589,
          2890149,
          3769414,
          4085354,
          4219176,
          4370865,
          4404466,
          2504563,
          1685983,
          1850582,
          2546255,
          2852506,
          2986589,
          3043732,
          3068381,
          3125544,
          4030916,
          4446657,
          4570080,
          4774865,
          4932958,
          4995264,
          4246567,
          2921939,
          2181973,
          1814523,
          1569612,
          1360767,
          1210125,
          1140234,
          1042395,
          985187,
          998270,
          959623,
          903540,
          840494,
          839656,
          891484,
          922678,
          869817,
          834842,
          824131,
          828714,
          757609,
          704491,
          688167,
          710612,
          715672,
          728595,
          743100,
          752396,
          708119,
          692570,
          685996,
          731696,
          732785,
          754295,
          791967,
          857089,
          878310,
          916856,
          957010,
          958315,
          930754,
          978067,
          959890,
          955108,
          958006,
          987150,
          1016788,
          999898,
          949086,
          937254,
          921123,
          871601,
          872783,
          832272,
          927467,
          972269,
          1062236,
          1186371,
          1283725,
          1323960,
          1332594,
          1241800,
          1282450,
          1305680,
          1310436,
          1342719,
          1342450,
          1306952,
          1322095,
          1084851,
          955550,
          848104,
          768019,
          712980,
          649308,
          599988,
          575658,
          532391,
          528761,
          522133,
          502730,
          513131,
          556874,
          694468,
          853894,
          959561,
          1076757,
          1195275,
          1531716,
          1658860,
          1759308,
          1762065,
          1632872,
          1520191,
          1434764,
          1114876,
          926721,
          765212,
          615581,
          566152,
          570630,
          501866,
          537480,
          562089,
          594040,
          623307,
          567677,
          546938,
          560004,
          539003,
          515698,
          473800,
          473800,
          486842,
          485185,
          468698,
          465049,
          428345,
          393110,
          393110,
          395979,
          419518,
          423531,
          710058,
          727017,
          765657,
          749959,
          737391,
          737391,
          463753,
          420576,
          420576,
          370186,
          368853,
          443790,
          435844,
          441903,
          440545,
          434160,
          420086,
          377936,
          316765,
          317377,
          279468,
          298505,
          329315,
          356910,
          355668,
          368799,
          391140,
          362794,
          374632,
          371452,
          411477,
          411477,
          469775,
          485845,
          494948,
          592739,
          568771,
          551855,
          551855,
          529180,
          496161,
          394704,
          394704,
          447483,
          421055,
          410693,
          423790,
          442152,
          423471,
          322600,
          319807,
          314645,
          296441,
          300607,
          311171,
          549477,
          708386,
          790748,
          908977,
          1078350,
          1005864,
          1005864,
          896678,
          881445,
          847808,
          875900,
          901908,
          893976,
          901000,
          895708,
          878552,
          796032,
          768643,
          856493,
          901292,
          914158,
          932915,
          971878,
          960727,
          835877,
          835340,
          803305,
          761607,
          708448,
          678256,
          647685,
          637836,
          627309,
          675566,
          840866,
          840544,
          796858,
          717422,
          740920,
          801018,
          755093,
          827218,
          852272,
          885982,
          871153,
          802724,
          969412,
          864738,
          819603,
          773938,
          737750,
          766271,
          551524,
          541415,
          538301,
          518958,
          516573,
          461062,
          412645,
          357206,
          314157,
          339084,
          348406,
          370128,
          371076,
          396192,
          617390,
          665486,
          619441,
          611670,
          593985,
          612848,
          476476,
          399331,
          434280,
          455693,
          441218,
          425757,
          636438,
          629670,
          669706,
          738154,
          803388,
          939948,
          1077433,
          1106012,
          1165562,
          1250290,
          1300523,
          1391443,
          1393544,
          1263247,
          1240408,
          1158571,
          1151713,
          1035277,
          950263,
          852022,
          792544,
          735074,
          663273,
          625403,
          751127,
          832860,
          992717,
          1024683,
          1018003,
          992082,
          938321,
          791632,
          730670,
          747499,
          795466,
          890844,
          920951,
          974658,
          971747,
          967084,
          1004864,
          1124343,
          1351420,
          1505984,
          1612132,
          1898651,
          1898651,
          1833185,
          1624387,
          1331945,
          1314342,
          1412190,
          1669384,
          1715190,
          1765666,
          1864800,
          1931945,
          1920146,
          1560675,
          1441242,
          1137676,
          982812,
          1039167,
          948178,
          2085817,
          3039254,
          3656951,
          2741540,
          2218221,
          967110,
          1317547,
          2189665,
          2320671,
          2293459,
          2379327
         ]
        }
       ],
       "layout": {
        "template": {
         "data": {
          "bar": [
           {
            "error_x": {
             "color": "#2a3f5f"
            },
            "error_y": {
             "color": "#2a3f5f"
            },
            "marker": {
             "line": {
              "color": "#E5ECF6",
              "width": 0.5
             }
            },
            "type": "bar"
           }
          ],
          "barpolar": [
           {
            "marker": {
             "line": {
              "color": "#E5ECF6",
              "width": 0.5
             }
            },
            "type": "barpolar"
           }
          ],
          "carpet": [
           {
            "aaxis": {
             "endlinecolor": "#2a3f5f",
             "gridcolor": "white",
             "linecolor": "white",
             "minorgridcolor": "white",
             "startlinecolor": "#2a3f5f"
            },
            "baxis": {
             "endlinecolor": "#2a3f5f",
             "gridcolor": "white",
             "linecolor": "white",
             "minorgridcolor": "white",
             "startlinecolor": "#2a3f5f"
            },
            "type": "carpet"
           }
          ],
          "choropleth": [
           {
            "colorbar": {
             "outlinewidth": 0,
             "ticks": ""
            },
            "type": "choropleth"
           }
          ],
          "contour": [
           {
            "colorbar": {
             "outlinewidth": 0,
             "ticks": ""
            },
            "colorscale": [
             [
              0,
              "#0d0887"
             ],
             [
              0.1111111111111111,
              "#46039f"
             ],
             [
              0.2222222222222222,
              "#7201a8"
             ],
             [
              0.3333333333333333,
              "#9c179e"
             ],
             [
              0.4444444444444444,
              "#bd3786"
             ],
             [
              0.5555555555555556,
              "#d8576b"
             ],
             [
              0.6666666666666666,
              "#ed7953"
             ],
             [
              0.7777777777777778,
              "#fb9f3a"
             ],
             [
              0.8888888888888888,
              "#fdca26"
             ],
             [
              1,
              "#f0f921"
             ]
            ],
            "type": "contour"
           }
          ],
          "contourcarpet": [
           {
            "colorbar": {
             "outlinewidth": 0,
             "ticks": ""
            },
            "type": "contourcarpet"
           }
          ],
          "heatmap": [
           {
            "colorbar": {
             "outlinewidth": 0,
             "ticks": ""
            },
            "colorscale": [
             [
              0,
              "#0d0887"
             ],
             [
              0.1111111111111111,
              "#46039f"
             ],
             [
              0.2222222222222222,
              "#7201a8"
             ],
             [
              0.3333333333333333,
              "#9c179e"
             ],
             [
              0.4444444444444444,
              "#bd3786"
             ],
             [
              0.5555555555555556,
              "#d8576b"
             ],
             [
              0.6666666666666666,
              "#ed7953"
             ],
             [
              0.7777777777777778,
              "#fb9f3a"
             ],
             [
              0.8888888888888888,
              "#fdca26"
             ],
             [
              1,
              "#f0f921"
             ]
            ],
            "type": "heatmap"
           }
          ],
          "heatmapgl": [
           {
            "colorbar": {
             "outlinewidth": 0,
             "ticks": ""
            },
            "colorscale": [
             [
              0,
              "#0d0887"
             ],
             [
              0.1111111111111111,
              "#46039f"
             ],
             [
              0.2222222222222222,
              "#7201a8"
             ],
             [
              0.3333333333333333,
              "#9c179e"
             ],
             [
              0.4444444444444444,
              "#bd3786"
             ],
             [
              0.5555555555555556,
              "#d8576b"
             ],
             [
              0.6666666666666666,
              "#ed7953"
             ],
             [
              0.7777777777777778,
              "#fb9f3a"
             ],
             [
              0.8888888888888888,
              "#fdca26"
             ],
             [
              1,
              "#f0f921"
             ]
            ],
            "type": "heatmapgl"
           }
          ],
          "histogram": [
           {
            "marker": {
             "colorbar": {
              "outlinewidth": 0,
              "ticks": ""
             }
            },
            "type": "histogram"
           }
          ],
          "histogram2d": [
           {
            "colorbar": {
             "outlinewidth": 0,
             "ticks": ""
            },
            "colorscale": [
             [
              0,
              "#0d0887"
             ],
             [
              0.1111111111111111,
              "#46039f"
             ],
             [
              0.2222222222222222,
              "#7201a8"
             ],
             [
              0.3333333333333333,
              "#9c179e"
             ],
             [
              0.4444444444444444,
              "#bd3786"
             ],
             [
              0.5555555555555556,
              "#d8576b"
             ],
             [
              0.6666666666666666,
              "#ed7953"
             ],
             [
              0.7777777777777778,
              "#fb9f3a"
             ],
             [
              0.8888888888888888,
              "#fdca26"
             ],
             [
              1,
              "#f0f921"
             ]
            ],
            "type": "histogram2d"
           }
          ],
          "histogram2dcontour": [
           {
            "colorbar": {
             "outlinewidth": 0,
             "ticks": ""
            },
            "colorscale": [
             [
              0,
              "#0d0887"
             ],
             [
              0.1111111111111111,
              "#46039f"
             ],
             [
              0.2222222222222222,
              "#7201a8"
             ],
             [
              0.3333333333333333,
              "#9c179e"
             ],
             [
              0.4444444444444444,
              "#bd3786"
             ],
             [
              0.5555555555555556,
              "#d8576b"
             ],
             [
              0.6666666666666666,
              "#ed7953"
             ],
             [
              0.7777777777777778,
              "#fb9f3a"
             ],
             [
              0.8888888888888888,
              "#fdca26"
             ],
             [
              1,
              "#f0f921"
             ]
            ],
            "type": "histogram2dcontour"
           }
          ],
          "mesh3d": [
           {
            "colorbar": {
             "outlinewidth": 0,
             "ticks": ""
            },
            "type": "mesh3d"
           }
          ],
          "parcoords": [
           {
            "line": {
             "colorbar": {
              "outlinewidth": 0,
              "ticks": ""
             }
            },
            "type": "parcoords"
           }
          ],
          "scatter": [
           {
            "marker": {
             "colorbar": {
              "outlinewidth": 0,
              "ticks": ""
             }
            },
            "type": "scatter"
           }
          ],
          "scatter3d": [
           {
            "line": {
             "colorbar": {
              "outlinewidth": 0,
              "ticks": ""
             }
            },
            "marker": {
             "colorbar": {
              "outlinewidth": 0,
              "ticks": ""
             }
            },
            "type": "scatter3d"
           }
          ],
          "scattercarpet": [
           {
            "marker": {
             "colorbar": {
              "outlinewidth": 0,
              "ticks": ""
             }
            },
            "type": "scattercarpet"
           }
          ],
          "scattergeo": [
           {
            "marker": {
             "colorbar": {
              "outlinewidth": 0,
              "ticks": ""
             }
            },
            "type": "scattergeo"
           }
          ],
          "scattergl": [
           {
            "marker": {
             "colorbar": {
              "outlinewidth": 0,
              "ticks": ""
             }
            },
            "type": "scattergl"
           }
          ],
          "scattermapbox": [
           {
            "marker": {
             "colorbar": {
              "outlinewidth": 0,
              "ticks": ""
             }
            },
            "type": "scattermapbox"
           }
          ],
          "scatterpolar": [
           {
            "marker": {
             "colorbar": {
              "outlinewidth": 0,
              "ticks": ""
             }
            },
            "type": "scatterpolar"
           }
          ],
          "scatterpolargl": [
           {
            "marker": {
             "colorbar": {
              "outlinewidth": 0,
              "ticks": ""
             }
            },
            "type": "scatterpolargl"
           }
          ],
          "scatterternary": [
           {
            "marker": {
             "colorbar": {
              "outlinewidth": 0,
              "ticks": ""
             }
            },
            "type": "scatterternary"
           }
          ],
          "surface": [
           {
            "colorbar": {
             "outlinewidth": 0,
             "ticks": ""
            },
            "colorscale": [
             [
              0,
              "#0d0887"
             ],
             [
              0.1111111111111111,
              "#46039f"
             ],
             [
              0.2222222222222222,
              "#7201a8"
             ],
             [
              0.3333333333333333,
              "#9c179e"
             ],
             [
              0.4444444444444444,
              "#bd3786"
             ],
             [
              0.5555555555555556,
              "#d8576b"
             ],
             [
              0.6666666666666666,
              "#ed7953"
             ],
             [
              0.7777777777777778,
              "#fb9f3a"
             ],
             [
              0.8888888888888888,
              "#fdca26"
             ],
             [
              1,
              "#f0f921"
             ]
            ],
            "type": "surface"
           }
          ],
          "table": [
           {
            "cells": {
             "fill": {
              "color": "#EBF0F8"
             },
             "line": {
              "color": "white"
             }
            },
            "header": {
             "fill": {
              "color": "#C8D4E3"
             },
             "line": {
              "color": "white"
             }
            },
            "type": "table"
           }
          ]
         },
         "layout": {
          "annotationdefaults": {
           "arrowcolor": "#2a3f5f",
           "arrowhead": 0,
           "arrowwidth": 1
          },
          "colorscale": {
           "diverging": [
            [
             0,
             "#8e0152"
            ],
            [
             0.1,
             "#c51b7d"
            ],
            [
             0.2,
             "#de77ae"
            ],
            [
             0.3,
             "#f1b6da"
            ],
            [
             0.4,
             "#fde0ef"
            ],
            [
             0.5,
             "#f7f7f7"
            ],
            [
             0.6,
             "#e6f5d0"
            ],
            [
             0.7,
             "#b8e186"
            ],
            [
             0.8,
             "#7fbc41"
            ],
            [
             0.9,
             "#4d9221"
            ],
            [
             1,
             "#276419"
            ]
           ],
           "sequential": [
            [
             0,
             "#0d0887"
            ],
            [
             0.1111111111111111,
             "#46039f"
            ],
            [
             0.2222222222222222,
             "#7201a8"
            ],
            [
             0.3333333333333333,
             "#9c179e"
            ],
            [
             0.4444444444444444,
             "#bd3786"
            ],
            [
             0.5555555555555556,
             "#d8576b"
            ],
            [
             0.6666666666666666,
             "#ed7953"
            ],
            [
             0.7777777777777778,
             "#fb9f3a"
            ],
            [
             0.8888888888888888,
             "#fdca26"
            ],
            [
             1,
             "#f0f921"
            ]
           ],
           "sequentialminus": [
            [
             0,
             "#0d0887"
            ],
            [
             0.1111111111111111,
             "#46039f"
            ],
            [
             0.2222222222222222,
             "#7201a8"
            ],
            [
             0.3333333333333333,
             "#9c179e"
            ],
            [
             0.4444444444444444,
             "#bd3786"
            ],
            [
             0.5555555555555556,
             "#d8576b"
            ],
            [
             0.6666666666666666,
             "#ed7953"
            ],
            [
             0.7777777777777778,
             "#fb9f3a"
            ],
            [
             0.8888888888888888,
             "#fdca26"
            ],
            [
             1,
             "#f0f921"
            ]
           ]
          },
          "colorway": [
           "#636efa",
           "#EF553B",
           "#00cc96",
           "#ab63fa",
           "#FFA15A",
           "#19d3f3",
           "#FF6692",
           "#B6E880",
           "#FF97FF",
           "#FECB52"
          ],
          "font": {
           "color": "#2a3f5f"
          },
          "geo": {
           "bgcolor": "white",
           "lakecolor": "white",
           "landcolor": "#E5ECF6",
           "showlakes": true,
           "showland": true,
           "subunitcolor": "white"
          },
          "hoverlabel": {
           "align": "left"
          },
          "hovermode": "closest",
          "mapbox": {
           "style": "light"
          },
          "paper_bgcolor": "white",
          "plot_bgcolor": "#E5ECF6",
          "polar": {
           "angularaxis": {
            "gridcolor": "white",
            "linecolor": "white",
            "ticks": ""
           },
           "bgcolor": "#E5ECF6",
           "radialaxis": {
            "gridcolor": "white",
            "linecolor": "white",
            "ticks": ""
           }
          },
          "scene": {
           "xaxis": {
            "backgroundcolor": "#E5ECF6",
            "gridcolor": "white",
            "gridwidth": 2,
            "linecolor": "white",
            "showbackground": true,
            "ticks": "",
            "zerolinecolor": "white"
           },
           "yaxis": {
            "backgroundcolor": "#E5ECF6",
            "gridcolor": "white",
            "gridwidth": 2,
            "linecolor": "white",
            "showbackground": true,
            "ticks": "",
            "zerolinecolor": "white"
           },
           "zaxis": {
            "backgroundcolor": "#E5ECF6",
            "gridcolor": "white",
            "gridwidth": 2,
            "linecolor": "white",
            "showbackground": true,
            "ticks": "",
            "zerolinecolor": "white"
           }
          },
          "shapedefaults": {
           "line": {
            "color": "#2a3f5f"
           }
          },
          "ternary": {
           "aaxis": {
            "gridcolor": "white",
            "linecolor": "white",
            "ticks": ""
           },
           "baxis": {
            "gridcolor": "white",
            "linecolor": "white",
            "ticks": ""
           },
           "bgcolor": "#E5ECF6",
           "caxis": {
            "gridcolor": "white",
            "linecolor": "white",
            "ticks": ""
           }
          },
          "title": {
           "x": 0.05
          },
          "xaxis": {
           "automargin": true,
           "gridcolor": "white",
           "linecolor": "white",
           "ticks": "",
           "zerolinecolor": "white",
           "zerolinewidth": 2
          },
          "yaxis": {
           "automargin": true,
           "gridcolor": "white",
           "linecolor": "white",
           "ticks": "",
           "zerolinecolor": "white",
           "zerolinewidth": 2
          }
         }
        },
        "title": {
         "text": "The Talking_about_count of CBSNews from 2016 to 2018"
        },
        "xaxis": {
         "title": {
          "text": "Time"
         }
        },
        "yaxis": {
         "title": {
          "text": "talking_about_count"
         }
        }
       }
      },
      "text/html": [
       "<div>\n",
       "        \n",
       "        \n",
       "            <div id=\"425f45c6-2aa2-451b-b1ea-f07b47f714f3\" class=\"plotly-graph-div\" style=\"height:525px; width:100%;\"></div>\n",
       "            <script type=\"text/javascript\">\n",
       "                require([\"plotly\"], function(Plotly) {\n",
       "                    window.PLOTLYENV=window.PLOTLYENV || {};\n",
       "                    \n",
       "                if (document.getElementById(\"425f45c6-2aa2-451b-b1ea-f07b47f714f3\")) {\n",
       "                    Plotly.newPlot(\n",
       "                        '425f45c6-2aa2-451b-b1ea-f07b47f714f3',\n",
       "                        [{\"type\": \"scatter\", \"x\": [\"2016-08-20T04:00:00+00:00\", \"2016-08-21T04:00:00+00:00\", \"2016-08-22T04:00:00+00:00\", \"2016-08-23T04:00:00+00:00\", \"2016-08-24T04:00:00+00:00\", \"2016-08-25T04:00:00+00:00\", \"2016-08-26T04:00:00+00:00\", \"2016-08-27T04:00:00+00:00\", \"2016-08-28T04:00:00+00:00\", \"2016-08-29T04:00:00+00:00\", \"2016-08-30T04:00:00+00:00\", \"2016-08-31T04:00:00+00:00\", \"2016-09-01T04:00:00+00:00\", \"2016-09-02T04:00:00+00:00\", \"2016-09-03T04:00:00+00:00\", \"2016-09-04T04:00:00+00:00\", \"2016-09-05T04:00:00+00:00\", \"2016-09-06T04:00:00+00:00\", \"2016-09-07T04:00:00+00:00\", \"2016-09-08T04:00:00+00:00\", \"2016-09-09T04:00:00+00:00\", \"2016-09-10T04:00:00+00:00\", \"2016-09-11T04:00:00+00:00\", \"2016-09-12T04:00:00+00:00\", \"2016-09-13T04:00:00+00:00\", \"2016-09-14T04:00:00+00:00\", \"2016-09-15T04:00:00+00:00\", \"2016-09-16T04:00:00+00:00\", \"2016-09-17T04:00:00+00:00\", \"2016-09-18T04:00:00+00:00\", \"2016-09-19T04:00:00+00:00\", \"2016-09-20T04:00:00+00:00\", \"2016-09-21T04:00:00+00:00\", \"2016-09-22T04:00:00+00:00\", \"2016-09-23T04:00:00+00:00\", \"2016-09-24T04:00:00+00:00\", \"2016-09-25T04:00:00+00:00\", \"2016-09-26T04:00:00+00:00\", \"2016-09-27T04:00:00+00:00\", \"2016-09-28T04:00:00+00:00\", \"2016-09-29T04:00:00+00:00\", \"2016-09-30T04:00:00+00:00\", \"2016-10-01T04:00:00+00:00\", \"2016-10-02T04:00:00+00:00\", \"2016-10-03T04:00:00+00:00\", \"2016-10-04T04:00:00+00:00\", \"2016-10-05T04:00:00+00:00\", \"2016-10-06T04:00:00+00:00\", \"2016-10-07T04:00:00+00:00\", \"2016-10-08T04:00:00+00:00\", \"2016-10-09T04:00:00+00:00\", \"2016-10-10T04:00:00+00:00\", \"2016-10-11T04:00:00+00:00\", \"2016-10-12T04:00:00+00:00\", \"2016-10-13T04:00:00+00:00\", \"2016-10-14T04:00:00+00:00\", \"2016-10-15T04:00:00+00:00\", \"2016-10-16T04:00:00+00:00\", \"2016-10-17T04:00:00+00:00\", \"2016-10-18T04:00:00+00:00\", \"2016-10-19T04:00:00+00:00\", \"2016-10-20T04:00:00+00:00\", \"2016-10-21T04:00:00+00:00\", \"2016-10-22T04:00:00+00:00\", \"2016-10-23T04:00:00+00:00\", \"2016-10-24T04:00:00+00:00\", \"2016-10-25T04:00:00+00:00\", \"2016-10-26T04:00:00+00:00\", \"2016-10-27T04:00:00+00:00\", \"2016-10-28T04:00:00+00:00\", \"2016-10-29T04:00:00+00:00\", \"2016-10-30T04:00:00+00:00\", \"2016-10-31T04:00:00+00:00\", \"2016-11-01T04:00:00+00:00\", \"2016-11-02T04:00:00+00:00\", \"2016-11-03T04:00:00+00:00\", \"2016-11-04T04:00:00+00:00\", \"2016-11-05T04:00:00+00:00\", \"2016-11-06T04:00:00+00:00\", \"2016-11-07T05:00:00+00:00\", \"2016-11-08T05:00:00+00:00\", \"2016-11-09T05:00:00+00:00\", \"2016-11-10T05:00:00+00:00\", \"2016-11-11T05:00:00+00:00\", \"2016-11-12T05:00:00+00:00\", \"2016-11-13T05:00:00+00:00\", \"2016-11-14T05:00:00+00:00\", \"2016-11-15T05:00:00+00:00\", \"2016-11-16T05:00:00+00:00\", \"2016-11-17T05:00:00+00:00\", \"2016-11-18T05:00:00+00:00\", \"2016-11-19T05:00:00+00:00\", \"2016-11-20T05:00:00+00:00\", \"2016-11-21T05:00:00+00:00\", \"2016-11-22T05:00:00+00:00\", \"2016-11-23T05:00:00+00:00\", \"2016-11-24T05:00:00+00:00\", \"2016-11-25T05:00:00+00:00\", \"2016-11-26T05:00:00+00:00\", \"2016-11-27T05:00:00+00:00\", \"2016-11-28T05:00:00+00:00\", \"2016-11-29T05:00:00+00:00\", \"2016-11-30T05:00:00+00:00\", \"2016-12-01T05:00:00+00:00\", \"2016-12-02T05:00:00+00:00\", \"2016-12-03T05:00:00+00:00\", \"2016-12-04T05:00:00+00:00\", \"2016-12-05T05:00:00+00:00\", \"2016-12-06T05:00:00+00:00\", \"2016-12-07T05:00:00+00:00\", \"2016-12-08T05:00:00+00:00\", \"2016-12-09T05:00:00+00:00\", \"2016-12-10T05:00:00+00:00\", \"2016-12-11T05:00:00+00:00\", \"2016-12-12T05:00:00+00:00\", \"2016-12-13T05:00:00+00:00\", \"2016-12-14T05:00:00+00:00\", \"2016-12-15T05:00:00+00:00\", \"2016-12-16T05:00:00+00:00\", \"2016-12-17T05:00:00+00:00\", \"2016-12-18T05:00:00+00:00\", \"2016-12-19T05:00:00+00:00\", \"2016-12-20T05:00:00+00:00\", \"2016-12-21T05:00:00+00:00\", \"2016-12-22T05:00:00+00:00\", \"2016-12-23T05:00:00+00:00\", \"2016-12-24T05:00:00+00:00\", \"2016-12-25T05:00:00+00:00\", \"2016-12-26T05:00:00+00:00\", \"2016-12-27T05:00:00+00:00\", \"2016-12-28T05:00:00+00:00\", \"2016-12-29T05:00:00+00:00\", \"2016-12-30T05:00:00+00:00\", \"2016-12-31T05:00:00+00:00\", \"2017-01-01T05:00:00+00:00\", \"2017-01-02T05:00:00+00:00\", \"2017-01-03T05:00:00+00:00\", \"2017-01-04T05:00:00+00:00\", \"2017-01-05T05:00:00+00:00\", \"2017-01-06T05:00:00+00:00\", \"2017-01-07T05:00:00+00:00\", \"2017-01-08T05:00:00+00:00\", \"2017-01-09T05:00:00+00:00\", \"2017-01-10T05:00:00+00:00\", \"2017-01-11T05:00:00+00:00\", \"2017-01-12T05:00:00+00:00\", \"2017-01-13T05:00:00+00:00\", \"2017-01-14T05:00:00+00:00\", \"2017-01-15T05:00:00+00:00\", \"2017-01-16T05:00:00+00:00\", \"2017-01-17T05:00:00+00:00\", \"2017-01-18T05:00:00+00:00\", \"2017-01-19T05:00:00+00:00\", \"2017-01-20T05:00:00+00:00\", \"2017-01-21T05:00:00+00:00\", \"2017-01-22T05:00:00+00:00\", \"2017-01-23T05:00:00+00:00\", \"2017-01-24T05:00:00+00:00\", \"2017-01-25T05:00:00+00:00\", \"2017-01-26T05:00:00+00:00\", \"2017-01-27T05:00:00+00:00\", \"2017-01-28T05:00:00+00:00\", \"2017-01-29T05:00:00+00:00\", \"2017-01-30T05:00:00+00:00\", \"2017-01-31T05:00:00+00:00\", \"2017-02-01T05:00:00+00:00\", \"2017-02-02T05:00:00+00:00\", \"2017-02-03T05:00:00+00:00\", \"2017-02-04T05:00:00+00:00\", \"2017-02-05T05:00:00+00:00\", \"2017-02-06T05:00:00+00:00\", \"2017-02-07T05:00:00+00:00\", \"2017-02-08T05:00:00+00:00\", \"2017-02-09T05:00:00+00:00\", \"2017-02-10T05:00:00+00:00\", \"2017-02-11T05:00:00+00:00\", \"2017-02-12T05:00:00+00:00\", \"2017-02-13T05:00:00+00:00\", \"2017-02-14T05:00:00+00:00\", \"2017-02-15T05:00:00+00:00\", \"2017-02-16T05:00:00+00:00\", \"2017-02-17T05:00:00+00:00\", \"2017-02-18T05:00:00+00:00\", \"2017-02-19T05:00:00+00:00\", \"2017-02-20T05:00:00+00:00\", \"2017-02-21T05:00:00+00:00\", \"2017-02-22T05:00:00+00:00\", \"2017-02-23T05:00:00+00:00\", \"2017-02-24T05:00:00+00:00\", \"2017-02-25T05:00:00+00:00\", \"2017-02-26T05:00:00+00:00\", \"2017-02-27T05:00:00+00:00\", \"2017-02-28T05:00:00+00:00\", \"2017-03-01T05:00:00+00:00\", \"2017-03-02T05:00:00+00:00\", \"2017-03-03T05:00:00+00:00\", \"2017-03-04T05:00:00+00:00\", \"2017-03-05T05:00:00+00:00\", \"2017-03-06T05:00:00+00:00\", \"2017-03-07T05:00:00+00:00\", \"2017-03-08T05:00:00+00:00\", \"2017-03-09T05:00:00+00:00\", \"2017-03-10T05:00:00+00:00\", \"2017-03-11T05:00:00+00:00\", \"2017-03-12T05:00:00+00:00\", \"2017-03-13T04:00:00+00:00\", \"2017-03-14T04:00:00+00:00\", \"2017-03-15T04:00:00+00:00\", \"2017-03-16T04:00:00+00:00\", \"2017-03-17T04:00:00+00:00\", \"2017-03-18T04:00:00+00:00\", \"2017-03-19T04:00:00+00:00\", \"2017-03-20T04:00:00+00:00\", \"2017-03-21T04:00:00+00:00\", \"2017-03-22T04:00:00+00:00\", \"2017-03-23T04:00:00+00:00\", \"2017-03-24T04:00:00+00:00\", \"2017-03-25T04:00:00+00:00\", \"2017-03-26T04:00:00+00:00\", \"2017-03-27T04:00:00+00:00\", \"2017-03-28T04:00:00+00:00\", \"2017-03-29T04:00:00+00:00\", \"2017-03-30T04:00:00+00:00\", \"2017-03-31T04:00:00+00:00\", \"2017-04-01T04:00:00+00:00\", \"2017-04-02T04:00:00+00:00\", \"2017-04-03T04:00:00+00:00\", \"2017-04-04T04:00:00+00:00\", \"2017-04-05T04:00:00+00:00\", \"2017-04-06T04:00:00+00:00\", \"2017-04-07T04:00:00+00:00\", \"2017-04-08T04:00:00+00:00\", \"2017-04-09T04:00:00+00:00\", \"2017-04-10T04:00:00+00:00\", \"2017-04-11T04:00:00+00:00\", \"2017-04-12T04:00:00+00:00\", \"2017-04-13T04:00:00+00:00\", \"2017-04-14T04:00:00+00:00\", \"2017-04-15T04:00:00+00:00\", \"2017-04-16T04:00:00+00:00\", \"2017-04-17T04:00:00+00:00\", \"2017-04-18T04:00:00+00:00\", \"2017-04-19T04:00:00+00:00\", \"2017-04-20T04:00:00+00:00\", \"2017-04-21T04:00:00+00:00\", \"2017-04-22T04:00:00+00:00\", \"2017-04-23T04:00:00+00:00\", \"2017-04-24T04:00:00+00:00\", \"2017-04-25T04:00:00+00:00\", \"2017-04-26T04:00:00+00:00\", \"2017-04-27T04:00:00+00:00\", \"2017-04-28T04:00:00+00:00\", \"2017-04-29T04:00:00+00:00\", \"2017-04-30T04:00:00+00:00\", \"2017-05-01T04:00:00+00:00\", \"2017-05-02T04:00:00+00:00\", \"2017-05-03T04:00:00+00:00\", \"2017-05-04T04:00:00+00:00\", \"2017-05-05T04:00:00+00:00\", \"2017-05-06T04:00:00+00:00\", \"2017-05-07T04:00:00+00:00\", \"2017-05-08T04:00:00+00:00\", \"2017-05-09T04:00:00+00:00\", \"2017-05-10T04:00:00+00:00\", \"2017-05-11T04:00:00+00:00\", \"2017-05-12T04:00:00+00:00\", \"2017-05-13T04:00:00+00:00\", \"2017-05-14T04:00:00+00:00\", \"2017-05-15T04:00:00+00:00\", \"2017-05-16T04:00:00+00:00\", \"2017-05-17T04:00:00+00:00\", \"2017-05-18T04:00:00+00:00\", \"2017-05-19T04:00:00+00:00\", \"2017-05-20T04:00:00+00:00\", \"2017-05-21T04:00:00+00:00\", \"2017-05-22T04:00:00+00:00\", \"2017-05-23T04:00:00+00:00\", \"2017-05-24T04:00:00+00:00\", \"2017-05-25T04:00:00+00:00\", \"2017-05-26T04:00:00+00:00\", \"2017-05-27T04:00:00+00:00\", \"2017-05-28T04:00:00+00:00\", \"2017-05-29T04:00:00+00:00\", \"2017-05-30T04:00:00+00:00\", \"2017-05-31T04:00:00+00:00\", \"2017-06-01T04:00:00+00:00\", \"2017-06-02T04:00:00+00:00\", \"2017-06-03T04:00:00+00:00\", \"2017-06-04T04:00:00+00:00\", \"2017-06-05T04:00:00+00:00\", \"2017-06-06T04:00:00+00:00\", \"2017-06-07T04:00:00+00:00\", \"2017-06-08T04:00:00+00:00\", \"2017-06-09T04:00:00+00:00\", \"2017-06-10T04:00:00+00:00\", \"2017-06-11T04:00:00+00:00\", \"2017-06-12T04:00:00+00:00\", \"2017-06-13T04:00:00+00:00\", \"2017-06-14T04:00:00+00:00\", \"2017-06-15T04:00:00+00:00\", \"2017-06-16T04:00:00+00:00\", \"2017-06-17T04:00:00+00:00\", \"2017-06-18T04:00:00+00:00\", \"2017-06-19T04:00:00+00:00\", \"2017-06-20T04:00:00+00:00\", \"2017-06-21T04:00:00+00:00\", \"2017-06-22T04:00:00+00:00\", \"2017-06-23T04:00:00+00:00\", \"2017-06-24T04:00:00+00:00\", \"2017-06-25T04:00:00+00:00\", \"2017-06-26T04:00:00+00:00\", \"2017-06-27T04:00:00+00:00\", \"2017-06-28T04:00:00+00:00\", \"2017-06-29T04:00:00+00:00\", \"2017-06-30T04:00:00+00:00\", \"2017-07-01T04:00:00+00:00\", \"2017-07-02T04:00:00+00:00\", \"2017-07-03T04:00:00+00:00\", \"2017-07-04T04:00:00+00:00\", \"2017-07-05T04:00:00+00:00\", \"2017-07-06T04:00:00+00:00\", \"2017-07-07T04:00:00+00:00\", \"2017-07-08T04:00:00+00:00\", \"2017-07-09T04:00:00+00:00\", \"2017-07-10T04:00:00+00:00\", \"2017-07-11T04:00:00+00:00\", \"2017-07-12T04:00:00+00:00\", \"2017-07-13T04:00:00+00:00\", \"2017-07-14T04:00:00+00:00\", \"2017-07-15T04:00:00+00:00\", \"2017-07-16T04:00:00+00:00\", \"2017-07-17T04:00:00+00:00\", \"2017-07-18T04:00:00+00:00\", \"2017-07-19T04:00:00+00:00\", \"2017-07-20T04:00:00+00:00\", \"2017-07-21T04:00:00+00:00\", \"2017-07-22T04:00:00+00:00\", \"2017-07-23T04:00:00+00:00\", \"2017-07-24T04:00:00+00:00\", \"2017-07-25T04:00:00+00:00\", \"2017-07-26T04:00:00+00:00\", \"2017-07-27T04:00:00+00:00\", \"2017-07-28T04:00:00+00:00\", \"2017-07-29T04:00:00+00:00\", \"2017-07-30T04:00:00+00:00\", \"2017-07-31T04:00:00+00:00\", \"2017-08-01T04:00:00+00:00\", \"2017-08-02T04:00:00+00:00\", \"2017-08-03T04:00:00+00:00\", \"2017-08-04T04:00:00+00:00\", \"2017-08-05T04:00:00+00:00\", \"2017-08-06T04:00:00+00:00\", \"2017-08-07T04:00:00+00:00\", \"2017-08-08T04:00:00+00:00\", \"2017-08-09T04:00:00+00:00\", \"2017-08-10T04:00:00+00:00\", \"2017-08-11T04:00:00+00:00\", \"2017-08-12T04:00:00+00:00\", \"2017-08-13T04:00:00+00:00\", \"2017-08-14T04:00:00+00:00\", \"2017-08-15T04:00:00+00:00\", \"2017-08-16T04:00:00+00:00\", \"2017-08-17T04:00:00+00:00\", \"2017-08-18T04:00:00+00:00\", \"2017-08-19T04:00:00+00:00\", \"2017-08-20T04:00:00+00:00\", \"2017-08-21T04:00:00+00:00\", \"2017-08-22T04:00:00+00:00\", \"2017-08-23T04:00:00+00:00\", \"2017-08-24T04:00:00+00:00\", \"2017-08-25T04:00:00+00:00\", \"2017-08-26T04:00:00+00:00\", \"2017-08-27T04:00:00+00:00\", \"2017-08-28T04:00:00+00:00\", \"2017-08-29T04:00:00+00:00\", \"2017-08-30T04:00:00+00:00\", \"2017-08-31T04:00:00+00:00\", \"2017-09-01T04:00:00+00:00\", \"2017-09-02T04:00:00+00:00\", \"2017-09-03T04:00:00+00:00\", \"2017-09-04T04:00:00+00:00\", \"2017-09-05T04:00:00+00:00\", \"2017-09-06T04:00:00+00:00\", \"2017-09-07T04:00:00+00:00\", \"2017-09-08T04:00:00+00:00\", \"2017-09-09T04:00:00+00:00\", \"2017-09-10T04:00:00+00:00\", \"2017-09-11T04:00:00+00:00\", \"2017-09-12T04:00:00+00:00\", \"2017-09-13T04:00:00+00:00\", \"2017-09-14T04:00:00+00:00\", \"2017-09-15T04:00:00+00:00\", \"2017-09-16T04:00:00+00:00\", \"2017-09-17T04:00:00+00:00\", \"2017-09-18T04:00:00+00:00\", \"2017-09-19T04:00:00+00:00\", \"2017-09-20T04:00:00+00:00\", \"2017-09-21T04:00:00+00:00\", \"2017-09-22T04:00:00+00:00\", \"2017-09-23T04:00:00+00:00\", \"2017-09-24T04:00:00+00:00\", \"2017-09-25T04:00:00+00:00\", \"2017-09-26T04:00:00+00:00\", \"2017-09-27T04:00:00+00:00\", \"2017-09-28T04:00:00+00:00\", \"2017-09-29T04:00:00+00:00\", \"2017-09-30T04:00:00+00:00\", \"2017-10-01T04:00:00+00:00\", \"2017-10-02T04:00:00+00:00\", \"2017-10-03T04:00:00+00:00\", \"2017-10-04T04:00:00+00:00\", \"2017-10-05T04:00:00+00:00\", \"2017-10-06T04:00:00+00:00\", \"2017-10-07T04:00:00+00:00\", \"2017-10-08T04:00:00+00:00\", \"2017-10-09T04:00:00+00:00\", \"2017-10-10T04:00:00+00:00\", \"2017-10-11T04:00:00+00:00\", \"2017-10-12T04:00:00+00:00\", \"2017-10-13T04:00:00+00:00\", \"2017-10-14T04:00:00+00:00\", \"2017-10-15T04:00:00+00:00\", \"2017-10-16T04:00:00+00:00\", \"2017-10-17T04:00:00+00:00\", \"2017-10-18T04:00:00+00:00\", \"2017-10-19T04:00:00+00:00\", \"2017-10-20T04:00:00+00:00\", \"2017-10-21T04:00:00+00:00\", \"2017-10-22T04:00:00+00:00\", \"2017-10-23T04:00:00+00:00\", \"2017-10-24T04:00:00+00:00\", \"2017-10-25T04:00:00+00:00\", \"2017-10-26T04:00:00+00:00\", \"2017-10-27T04:00:00+00:00\", \"2017-10-28T04:00:00+00:00\", \"2017-10-29T04:00:00+00:00\", \"2017-10-30T04:00:00+00:00\", \"2017-10-31T04:00:00+00:00\", \"2017-11-01T04:00:00+00:00\", \"2017-11-02T04:00:00+00:00\", \"2017-11-03T04:00:00+00:00\", \"2017-11-04T04:00:00+00:00\", \"2017-11-05T04:00:00+00:00\", \"2017-11-06T05:00:00+00:00\", \"2017-11-07T05:00:00+00:00\", \"2017-11-08T05:00:00+00:00\", \"2017-11-09T05:00:00+00:00\", \"2017-11-10T05:00:00+00:00\", \"2017-11-11T05:00:00+00:00\", \"2017-11-12T05:00:00+00:00\", \"2017-11-13T05:00:00+00:00\", \"2017-11-14T05:00:00+00:00\", \"2017-11-15T05:00:00+00:00\", \"2017-11-16T05:00:00+00:00\", \"2017-11-17T05:00:00+00:00\", \"2017-11-18T05:00:00+00:00\", \"2017-11-19T05:00:00+00:00\", \"2017-11-20T05:00:00+00:00\", \"2017-11-21T05:00:00+00:00\", \"2017-11-22T05:00:00+00:00\", \"2017-11-23T05:00:00+00:00\", \"2017-11-24T05:00:00+00:00\", \"2017-11-25T05:00:00+00:00\", \"2017-11-26T05:00:00+00:00\", \"2017-11-27T05:00:00+00:00\", \"2017-11-28T05:00:00+00:00\", \"2017-11-29T05:00:00+00:00\", \"2017-11-30T05:00:00+00:00\", \"2017-12-01T05:00:00+00:00\", \"2017-12-02T05:00:00+00:00\", \"2017-12-03T05:00:00+00:00\", \"2017-12-04T05:00:00+00:00\", \"2017-12-05T05:00:00+00:00\", \"2017-12-06T05:00:00+00:00\", \"2017-12-07T05:00:00+00:00\", \"2017-12-08T05:00:00+00:00\", \"2017-12-09T05:00:00+00:00\", \"2017-12-10T05:00:00+00:00\", \"2017-12-11T05:00:00+00:00\", \"2017-12-12T05:00:00+00:00\", \"2017-12-13T05:00:00+00:00\", \"2017-12-14T05:00:00+00:00\", \"2017-12-15T05:00:00+00:00\", \"2017-12-16T05:00:00+00:00\", \"2017-12-17T05:00:00+00:00\", \"2017-12-18T05:00:00+00:00\", \"2017-12-19T05:00:00+00:00\", \"2017-12-20T05:00:00+00:00\", \"2017-12-21T05:00:00+00:00\", \"2017-12-22T05:00:00+00:00\", \"2017-12-23T05:00:00+00:00\", \"2017-12-24T05:00:00+00:00\", \"2017-12-25T05:00:00+00:00\", \"2017-12-26T05:00:00+00:00\", \"2017-12-27T05:00:00+00:00\", \"2017-12-28T05:00:00+00:00\", \"2017-12-29T05:00:00+00:00\", \"2017-12-30T05:00:00+00:00\", \"2017-12-31T05:00:00+00:00\", \"2018-01-01T05:00:00+00:00\", \"2018-01-02T05:00:00+00:00\", \"2018-01-03T05:00:00+00:00\", \"2018-01-04T05:00:00+00:00\", \"2018-01-05T05:00:00+00:00\", \"2018-01-06T05:00:00+00:00\", \"2018-01-07T05:00:00+00:00\", \"2018-01-08T05:00:00+00:00\", \"2018-01-09T05:00:00+00:00\", \"2018-01-10T05:00:00+00:00\", \"2018-01-11T05:00:00+00:00\", \"2018-01-12T05:00:00+00:00\", \"2018-01-13T05:00:00+00:00\", \"2018-01-14T05:00:00+00:00\", \"2018-01-15T05:00:00+00:00\", \"2018-01-16T05:00:00+00:00\", \"2018-01-17T05:00:00+00:00\", \"2018-01-18T05:00:00+00:00\", \"2018-01-19T05:00:00+00:00\", \"2018-01-20T05:00:00+00:00\", \"2018-01-21T05:00:00+00:00\", \"2018-01-22T05:00:00+00:00\", \"2018-01-23T05:00:00+00:00\", \"2018-01-24T05:00:00+00:00\", \"2018-01-25T05:00:00+00:00\", \"2018-01-26T05:00:00+00:00\", \"2018-01-27T05:00:00+00:00\", \"2018-01-28T05:00:00+00:00\", \"2018-01-29T05:00:00+00:00\", \"2018-01-30T05:00:00+00:00\", \"2018-01-31T05:00:00+00:00\", \"2018-02-01T05:00:00+00:00\", \"2018-02-02T05:00:00+00:00\", \"2018-02-03T05:00:00+00:00\", \"2018-02-04T05:00:00+00:00\", \"2018-02-05T05:00:00+00:00\", \"2018-02-06T05:00:00+00:00\", \"2018-02-07T05:00:00+00:00\", \"2018-02-08T05:00:00+00:00\", \"2018-02-09T05:00:00+00:00\", \"2018-02-10T05:00:00+00:00\", \"2018-02-11T05:00:00+00:00\", \"2018-02-12T05:00:00+00:00\", \"2018-02-13T05:00:00+00:00\", \"2018-02-14T05:00:00+00:00\", \"2018-02-15T05:00:00+00:00\", \"2018-02-16T05:00:00+00:00\", \"2018-02-17T05:00:00+00:00\", \"2018-02-18T05:00:00+00:00\", \"2018-02-19T05:00:00+00:00\", \"2018-02-20T05:00:00+00:00\", \"2018-02-21T05:00:00+00:00\", \"2018-02-22T05:00:00+00:00\", \"2018-02-23T05:00:00+00:00\", \"2018-02-24T05:00:00+00:00\", \"2018-02-25T05:00:00+00:00\", \"2018-02-26T05:00:00+00:00\", \"2018-02-27T05:00:00+00:00\", \"2018-02-28T05:00:00+00:00\", \"2018-03-01T05:00:00+00:00\", \"2018-03-02T05:00:00+00:00\", \"2018-03-03T05:00:00+00:00\", \"2018-03-04T05:00:00+00:00\", \"2018-03-05T05:00:00+00:00\", \"2018-03-06T05:00:00+00:00\", \"2018-03-07T05:00:00+00:00\", \"2018-03-08T05:00:00+00:00\", \"2018-03-09T05:00:00+00:00\", \"2018-03-10T05:00:00+00:00\", \"2018-03-11T05:00:00+00:00\", \"2018-03-12T04:00:00+00:00\", \"2018-03-13T04:00:00+00:00\", \"2018-03-14T04:00:00+00:00\", \"2018-03-15T04:00:00+00:00\", \"2018-03-16T04:00:00+00:00\", \"2018-03-17T04:00:00+00:00\", \"2018-03-18T04:00:00+00:00\", \"2018-03-19T04:00:00+00:00\", \"2018-03-20T04:00:00+00:00\", \"2018-03-21T04:00:00+00:00\", \"2018-03-22T04:00:00+00:00\", \"2018-03-23T04:00:00+00:00\", \"2018-03-24T04:00:00+00:00\", \"2018-03-25T04:00:00+00:00\", \"2018-03-26T04:00:00+00:00\", \"2018-03-27T04:00:00+00:00\", \"2018-03-28T04:00:00+00:00\", \"2018-03-29T04:00:00+00:00\", \"2018-03-30T04:00:00+00:00\", \"2018-03-31T04:00:00+00:00\", \"2018-04-01T04:00:00+00:00\", \"2018-04-02T04:00:00+00:00\", \"2018-04-03T04:00:00+00:00\", \"2018-04-04T04:00:00+00:00\", \"2018-04-05T04:00:00+00:00\", \"2018-04-06T04:00:00+00:00\", \"2018-04-07T04:00:00+00:00\", \"2018-04-08T04:00:00+00:00\", \"2018-04-09T04:00:00+00:00\", \"2018-04-10T04:00:00+00:00\", \"2018-04-11T04:00:00+00:00\", \"2018-04-12T04:00:00+00:00\", \"2018-04-17T04:00:00+00:00\", \"2018-04-18T04:00:00+00:00\", \"2018-04-19T04:00:00+00:00\", \"2018-04-20T04:00:00+00:00\", \"2018-04-22T04:00:00+00:00\", \"2018-04-23T04:00:00+00:00\", \"2018-04-24T04:00:00+00:00\", \"2018-04-25T04:00:00+00:00\", \"2018-04-26T04:00:00+00:00\", \"2018-04-27T04:00:00+00:00\", \"2018-04-28T04:00:00+00:00\", \"2018-04-29T04:00:00+00:00\", \"2018-04-30T04:00:00+00:00\", \"2018-05-01T04:00:00+00:00\", \"2018-05-02T04:00:00+00:00\", \"2018-05-03T04:00:00+00:00\", \"2018-05-04T04:00:00+00:00\", \"2018-05-05T04:00:00+00:00\", \"2018-05-06T04:00:00+00:00\", \"2018-05-07T04:00:00+00:00\", \"2018-05-08T04:00:00+00:00\", \"2018-05-09T04:00:00+00:00\", \"2018-05-10T04:00:00+00:00\", \"2018-05-11T04:00:00+00:00\", \"2018-05-12T04:00:00+00:00\", \"2018-05-13T04:00:00+00:00\", \"2018-05-14T04:00:00+00:00\", \"2018-05-15T04:00:00+00:00\", \"2018-05-16T04:00:00+00:00\", \"2018-05-17T04:00:00+00:00\", \"2018-05-18T04:00:00+00:00\", \"2018-05-19T04:00:00+00:00\", \"2018-05-20T04:00:00+00:00\", \"2018-05-21T04:00:00+00:00\", \"2018-05-22T04:00:00+00:00\", \"2018-05-23T04:00:00+00:00\", \"2018-05-26T04:00:00+00:00\", \"2018-05-27T04:00:00+00:00\", \"2018-05-28T04:00:00+00:00\", \"2018-05-29T04:00:00+00:00\", \"2018-05-31T04:00:00+00:00\", \"2018-06-02T04:00:00+00:00\", \"2018-06-04T04:00:00+00:00\", \"2018-06-06T04:00:00+00:00\", \"2018-06-08T04:00:00+00:00\", \"2018-06-13T04:00:00+00:00\", \"2018-06-25T04:00:00+00:00\", \"2018-07-05T04:00:00+00:00\", \"2018-07-11T04:00:00+00:00\", \"2018-07-14T04:00:00+00:00\", \"2018-07-16T04:00:00+00:00\"], \"y\": [342679, 574285, 605538, 615416, 849424, 920690, 950981, 863562, 743376, 726296, 637947, 491167, 488102, 545988, 611246, 670553, 711452, 702132, 701436, 647940, 852667, 866584, 812653, 837309, 804496, 814649, 826194, 696304, 510208, 483653, 526010, 451134, 497915, 495234, 521199, 509929, 478461, 470973, 490803, 463385, 464367, 542429, 1089009, 1089009, 3934618, 4448142, 4595924, 4533209, 4497202, 3833755, 2103909, 934229, 388488, 120644, 33258, 34443, 210997, 567454, 1064795, 1595209, 2327070, 2651504, 2897246, 2903442, 2726252, 2399288, 1968192, 1632943, 1451867, 1288569, 1182402, 1055058, 913605, 778069, 702072, 611681, 637956, 630020, 730294, 810771, 828044, 858583, 943196, 1145564, 1181057, 1112886, 1066930, 1058182, 1048525, 1031396, 743567, 722289, 789112, 1399884, 1491053, 1696434, 1892353, 2018784, 2057548, 2059916, 1767234, 1484188, 1236413, 1054527, 1032643, 1032643, 1166026, 1259884, 1386315, 1510121, 1510121, 1506402, 1450363, 1335940, 1162996, 991384, 857381, 705163, 705163, 638017, 621333, 617355, 624275, 682103, 681336, 796243, 871798, 896876, 931533, 922439, 817852, 697235, 697235, 679477, 681400, 654498, 694956, 711842, 743866, 689370, 594801, 597509, 589754, 574512, 602828, 766332, 957107, 971634, 1094321, 1339224, 1259913, 1617594, 1601130, 1589711, 1777960, 2635707, 3185033, 3356144, 3233858, 3277262, 3417132, 3043174, 2121355, 1693793, 1494965, 1348755, 1145322, 1045706, 1036680, 1005983, 935230, 924156, 881328, 891734, 775164, 775164, 720867, 647866, 574098, 574098, 516194, 2895427, 3948221, 3948221, 4090960, 4206144, 4358821, 2755268, 1626134, 1403896, 1403896, 1395499, 1340770, 1235993, 1089484, 983078, 832704, 706700, 617079, 554717, 482333, 435858, 473370, 493505, 493505, 485742, 474002, 555624, 624923, 641729, 753607, 753607, 810316, 876295, 818839, 871946, 918672, 999283, 999283, 1063721, 1198317, 1256092, 1300998, 1323978, 1283495, 1189860, 1024626, 847097, 678097, 595642, 541468, 690525, 674777, 664896, 651484, 641992, 719517, 561415, 546611, 562714, 571858, 0, 575652, 558548, 636668, 777047, 824098, 909706, 930757, 920526, 872724, 729016, 581193, 466924, 386697, 333784, 330694, 337014, 359548, 358883, 371326, 383497, 380029, 396195, 424479, 425196, 431504, 426186, 414222, 404772, 358495, 382617, 403815, 413372, 408179, 412235, 393150, 549280, 529651, 566465, 603456, 655718, 685575, 575937, 536879, 523694, 532128, 542799, 545554, 555521, 559800, 543143, 514308, 411087, 378020, 345632, 367605, 366866, 698589, 2890149, 3769414, 4085354, 4219176, 4370865, 4404466, 2504563, 1685983, 1850582, 2546255, 2852506, 2986589, 3043732, 3068381, 3125544, 4030916, 4446657, 4570080, 4774865, 4932958, 4995264, 4246567, 2921939, 2181973, 1814523, 1569612, 1360767, 1210125, 1140234, 1042395, 985187, 998270, 959623, 903540, 840494, 839656, 891484, 922678, 869817, 834842, 824131, 828714, 757609, 704491, 688167, 710612, 715672, 728595, 743100, 752396, 708119, 692570, 685996, 731696, 732785, 754295, 791967, 857089, 878310, 916856, 957010, 958315, 930754, 978067, 959890, 955108, 958006, 987150, 1016788, 999898, 949086, 937254, 921123, 871601, 872783, 832272, 927467, 972269, 1062236, 1186371, 1283725, 1323960, 1332594, 1241800, 1282450, 1305680, 1310436, 1342719, 1342450, 1306952, 1322095, 1084851, 955550, 848104, 768019, 712980, 649308, 599988, 575658, 532391, 528761, 522133, 502730, 513131, 556874, 694468, 853894, 959561, 1076757, 1195275, 1531716, 1658860, 1759308, 1762065, 1632872, 1520191, 1434764, 1114876, 926721, 765212, 615581, 566152, 570630, 501866, 537480, 562089, 594040, 623307, 567677, 546938, 560004, 539003, 515698, 473800, 473800, 486842, 485185, 468698, 465049, 428345, 393110, 393110, 395979, 419518, 423531, 710058, 727017, 765657, 749959, 737391, 737391, 463753, 420576, 420576, 370186, 368853, 443790, 435844, 441903, 440545, 434160, 420086, 377936, 316765, 317377, 279468, 298505, 329315, 356910, 355668, 368799, 391140, 362794, 374632, 371452, 411477, 411477, 469775, 485845, 494948, 592739, 568771, 551855, 551855, 529180, 496161, 394704, 394704, 447483, 421055, 410693, 423790, 442152, 423471, 322600, 319807, 314645, 296441, 300607, 311171, 549477, 708386, 790748, 908977, 1078350, 1005864, 1005864, 896678, 881445, 847808, 875900, 901908, 893976, 901000, 895708, 878552, 796032, 768643, 856493, 901292, 914158, 932915, 971878, 960727, 835877, 835340, 803305, 761607, 708448, 678256, 647685, 637836, 627309, 675566, 840866, 840544, 796858, 717422, 740920, 801018, 755093, 827218, 852272, 885982, 871153, 802724, 969412, 864738, 819603, 773938, 737750, 766271, 551524, 541415, 538301, 518958, 516573, 461062, 412645, 357206, 314157, 339084, 348406, 370128, 371076, 396192, 617390, 665486, 619441, 611670, 593985, 612848, 476476, 399331, 434280, 455693, 441218, 425757, 636438, 629670, 669706, 738154, 803388, 939948, 1077433, 1106012, 1165562, 1250290, 1300523, 1391443, 1393544, 1263247, 1240408, 1158571, 1151713, 1035277, 950263, 852022, 792544, 735074, 663273, 625403, 751127, 832860, 992717, 1024683, 1018003, 992082, 938321, 791632, 730670, 747499, 795466, 890844, 920951, 974658, 971747, 967084, 1004864, 1124343, 1351420, 1505984, 1612132, 1898651, 1898651, 1833185, 1624387, 1331945, 1314342, 1412190, 1669384, 1715190, 1765666, 1864800, 1931945, 1920146, 1560675, 1441242, 1137676, 982812, 1039167, 948178, 2085817, 3039254, 3656951, 2741540, 2218221, 967110, 1317547, 2189665, 2320671, 2293459, 2379327]}],\n",
       "                        {\"template\": {\"data\": {\"bar\": [{\"error_x\": {\"color\": \"#2a3f5f\"}, \"error_y\": {\"color\": \"#2a3f5f\"}, \"marker\": {\"line\": {\"color\": \"#E5ECF6\", \"width\": 0.5}}, \"type\": \"bar\"}], \"barpolar\": [{\"marker\": {\"line\": {\"color\": \"#E5ECF6\", \"width\": 0.5}}, \"type\": \"barpolar\"}], \"carpet\": [{\"aaxis\": {\"endlinecolor\": \"#2a3f5f\", \"gridcolor\": \"white\", \"linecolor\": \"white\", \"minorgridcolor\": \"white\", \"startlinecolor\": \"#2a3f5f\"}, \"baxis\": {\"endlinecolor\": \"#2a3f5f\", \"gridcolor\": \"white\", \"linecolor\": \"white\", \"minorgridcolor\": \"white\", \"startlinecolor\": \"#2a3f5f\"}, \"type\": \"carpet\"}], \"choropleth\": [{\"colorbar\": {\"outlinewidth\": 0, \"ticks\": \"\"}, \"type\": \"choropleth\"}], \"contour\": [{\"colorbar\": {\"outlinewidth\": 0, \"ticks\": \"\"}, \"colorscale\": [[0.0, \"#0d0887\"], [0.1111111111111111, \"#46039f\"], [0.2222222222222222, \"#7201a8\"], [0.3333333333333333, \"#9c179e\"], [0.4444444444444444, \"#bd3786\"], [0.5555555555555556, \"#d8576b\"], [0.6666666666666666, \"#ed7953\"], [0.7777777777777778, \"#fb9f3a\"], [0.8888888888888888, \"#fdca26\"], [1.0, \"#f0f921\"]], \"type\": \"contour\"}], \"contourcarpet\": [{\"colorbar\": {\"outlinewidth\": 0, \"ticks\": \"\"}, \"type\": \"contourcarpet\"}], \"heatmap\": [{\"colorbar\": {\"outlinewidth\": 0, \"ticks\": \"\"}, \"colorscale\": [[0.0, \"#0d0887\"], [0.1111111111111111, \"#46039f\"], [0.2222222222222222, \"#7201a8\"], [0.3333333333333333, \"#9c179e\"], [0.4444444444444444, \"#bd3786\"], [0.5555555555555556, \"#d8576b\"], [0.6666666666666666, \"#ed7953\"], [0.7777777777777778, \"#fb9f3a\"], [0.8888888888888888, \"#fdca26\"], [1.0, \"#f0f921\"]], \"type\": \"heatmap\"}], \"heatmapgl\": [{\"colorbar\": {\"outlinewidth\": 0, \"ticks\": \"\"}, \"colorscale\": [[0.0, \"#0d0887\"], [0.1111111111111111, \"#46039f\"], [0.2222222222222222, \"#7201a8\"], [0.3333333333333333, \"#9c179e\"], [0.4444444444444444, \"#bd3786\"], [0.5555555555555556, \"#d8576b\"], [0.6666666666666666, \"#ed7953\"], [0.7777777777777778, \"#fb9f3a\"], [0.8888888888888888, \"#fdca26\"], [1.0, \"#f0f921\"]], \"type\": \"heatmapgl\"}], \"histogram\": [{\"marker\": {\"colorbar\": {\"outlinewidth\": 0, \"ticks\": \"\"}}, \"type\": \"histogram\"}], \"histogram2d\": [{\"colorbar\": {\"outlinewidth\": 0, \"ticks\": \"\"}, \"colorscale\": [[0.0, \"#0d0887\"], [0.1111111111111111, \"#46039f\"], [0.2222222222222222, \"#7201a8\"], [0.3333333333333333, \"#9c179e\"], [0.4444444444444444, \"#bd3786\"], [0.5555555555555556, \"#d8576b\"], [0.6666666666666666, \"#ed7953\"], [0.7777777777777778, \"#fb9f3a\"], [0.8888888888888888, \"#fdca26\"], [1.0, \"#f0f921\"]], \"type\": \"histogram2d\"}], \"histogram2dcontour\": [{\"colorbar\": {\"outlinewidth\": 0, \"ticks\": \"\"}, \"colorscale\": [[0.0, \"#0d0887\"], [0.1111111111111111, \"#46039f\"], [0.2222222222222222, \"#7201a8\"], [0.3333333333333333, \"#9c179e\"], [0.4444444444444444, \"#bd3786\"], [0.5555555555555556, \"#d8576b\"], [0.6666666666666666, \"#ed7953\"], [0.7777777777777778, \"#fb9f3a\"], [0.8888888888888888, \"#fdca26\"], [1.0, \"#f0f921\"]], \"type\": \"histogram2dcontour\"}], \"mesh3d\": [{\"colorbar\": {\"outlinewidth\": 0, \"ticks\": \"\"}, \"type\": \"mesh3d\"}], \"parcoords\": [{\"line\": {\"colorbar\": {\"outlinewidth\": 0, \"ticks\": \"\"}}, \"type\": \"parcoords\"}], \"scatter\": [{\"marker\": {\"colorbar\": {\"outlinewidth\": 0, \"ticks\": \"\"}}, \"type\": \"scatter\"}], \"scatter3d\": [{\"line\": {\"colorbar\": {\"outlinewidth\": 0, \"ticks\": \"\"}}, \"marker\": {\"colorbar\": {\"outlinewidth\": 0, \"ticks\": \"\"}}, \"type\": \"scatter3d\"}], \"scattercarpet\": [{\"marker\": {\"colorbar\": {\"outlinewidth\": 0, \"ticks\": \"\"}}, \"type\": \"scattercarpet\"}], \"scattergeo\": [{\"marker\": {\"colorbar\": {\"outlinewidth\": 0, \"ticks\": \"\"}}, \"type\": \"scattergeo\"}], \"scattergl\": [{\"marker\": {\"colorbar\": {\"outlinewidth\": 0, \"ticks\": \"\"}}, \"type\": \"scattergl\"}], \"scattermapbox\": [{\"marker\": {\"colorbar\": {\"outlinewidth\": 0, \"ticks\": \"\"}}, \"type\": \"scattermapbox\"}], \"scatterpolar\": [{\"marker\": {\"colorbar\": {\"outlinewidth\": 0, \"ticks\": \"\"}}, \"type\": \"scatterpolar\"}], \"scatterpolargl\": [{\"marker\": {\"colorbar\": {\"outlinewidth\": 0, \"ticks\": \"\"}}, \"type\": \"scatterpolargl\"}], \"scatterternary\": [{\"marker\": {\"colorbar\": {\"outlinewidth\": 0, \"ticks\": \"\"}}, \"type\": \"scatterternary\"}], \"surface\": [{\"colorbar\": {\"outlinewidth\": 0, \"ticks\": \"\"}, \"colorscale\": [[0.0, \"#0d0887\"], [0.1111111111111111, \"#46039f\"], [0.2222222222222222, \"#7201a8\"], [0.3333333333333333, \"#9c179e\"], [0.4444444444444444, \"#bd3786\"], [0.5555555555555556, \"#d8576b\"], [0.6666666666666666, \"#ed7953\"], [0.7777777777777778, \"#fb9f3a\"], [0.8888888888888888, \"#fdca26\"], [1.0, \"#f0f921\"]], \"type\": \"surface\"}], \"table\": [{\"cells\": {\"fill\": {\"color\": \"#EBF0F8\"}, \"line\": {\"color\": \"white\"}}, \"header\": {\"fill\": {\"color\": \"#C8D4E3\"}, \"line\": {\"color\": \"white\"}}, \"type\": \"table\"}]}, \"layout\": {\"annotationdefaults\": {\"arrowcolor\": \"#2a3f5f\", \"arrowhead\": 0, \"arrowwidth\": 1}, \"colorscale\": {\"diverging\": [[0, \"#8e0152\"], [0.1, \"#c51b7d\"], [0.2, \"#de77ae\"], [0.3, \"#f1b6da\"], [0.4, \"#fde0ef\"], [0.5, \"#f7f7f7\"], [0.6, \"#e6f5d0\"], [0.7, \"#b8e186\"], [0.8, \"#7fbc41\"], [0.9, \"#4d9221\"], [1, \"#276419\"]], \"sequential\": [[0.0, \"#0d0887\"], [0.1111111111111111, \"#46039f\"], [0.2222222222222222, \"#7201a8\"], [0.3333333333333333, \"#9c179e\"], [0.4444444444444444, \"#bd3786\"], [0.5555555555555556, \"#d8576b\"], [0.6666666666666666, \"#ed7953\"], [0.7777777777777778, \"#fb9f3a\"], [0.8888888888888888, \"#fdca26\"], [1.0, \"#f0f921\"]], \"sequentialminus\": [[0.0, \"#0d0887\"], [0.1111111111111111, \"#46039f\"], [0.2222222222222222, \"#7201a8\"], [0.3333333333333333, \"#9c179e\"], [0.4444444444444444, \"#bd3786\"], [0.5555555555555556, \"#d8576b\"], [0.6666666666666666, \"#ed7953\"], [0.7777777777777778, \"#fb9f3a\"], [0.8888888888888888, \"#fdca26\"], [1.0, \"#f0f921\"]]}, \"colorway\": [\"#636efa\", \"#EF553B\", \"#00cc96\", \"#ab63fa\", \"#FFA15A\", \"#19d3f3\", \"#FF6692\", \"#B6E880\", \"#FF97FF\", \"#FECB52\"], \"font\": {\"color\": \"#2a3f5f\"}, \"geo\": {\"bgcolor\": \"white\", \"lakecolor\": \"white\", \"landcolor\": \"#E5ECF6\", \"showlakes\": true, \"showland\": true, \"subunitcolor\": \"white\"}, \"hoverlabel\": {\"align\": \"left\"}, \"hovermode\": \"closest\", \"mapbox\": {\"style\": \"light\"}, \"paper_bgcolor\": \"white\", \"plot_bgcolor\": \"#E5ECF6\", \"polar\": {\"angularaxis\": {\"gridcolor\": \"white\", \"linecolor\": \"white\", \"ticks\": \"\"}, \"bgcolor\": \"#E5ECF6\", \"radialaxis\": {\"gridcolor\": \"white\", \"linecolor\": \"white\", \"ticks\": \"\"}}, \"scene\": {\"xaxis\": {\"backgroundcolor\": \"#E5ECF6\", \"gridcolor\": \"white\", \"gridwidth\": 2, \"linecolor\": \"white\", \"showbackground\": true, \"ticks\": \"\", \"zerolinecolor\": \"white\"}, \"yaxis\": {\"backgroundcolor\": \"#E5ECF6\", \"gridcolor\": \"white\", \"gridwidth\": 2, \"linecolor\": \"white\", \"showbackground\": true, \"ticks\": \"\", \"zerolinecolor\": \"white\"}, \"zaxis\": {\"backgroundcolor\": \"#E5ECF6\", \"gridcolor\": \"white\", \"gridwidth\": 2, \"linecolor\": \"white\", \"showbackground\": true, \"ticks\": \"\", \"zerolinecolor\": \"white\"}}, \"shapedefaults\": {\"line\": {\"color\": \"#2a3f5f\"}}, \"ternary\": {\"aaxis\": {\"gridcolor\": \"white\", \"linecolor\": \"white\", \"ticks\": \"\"}, \"baxis\": {\"gridcolor\": \"white\", \"linecolor\": \"white\", \"ticks\": \"\"}, \"bgcolor\": \"#E5ECF6\", \"caxis\": {\"gridcolor\": \"white\", \"linecolor\": \"white\", \"ticks\": \"\"}}, \"title\": {\"x\": 0.05}, \"xaxis\": {\"automargin\": true, \"gridcolor\": \"white\", \"linecolor\": \"white\", \"ticks\": \"\", \"zerolinecolor\": \"white\", \"zerolinewidth\": 2}, \"yaxis\": {\"automargin\": true, \"gridcolor\": \"white\", \"linecolor\": \"white\", \"ticks\": \"\", \"zerolinecolor\": \"white\", \"zerolinewidth\": 2}}}, \"title\": {\"text\": \"The Talking_about_count of CBSNews from 2016 to 2018\"}, \"xaxis\": {\"title\": {\"text\": \"Time\"}}, \"yaxis\": {\"title\": {\"text\": \"talking_about_count\"}}},\n",
       "                        {\"responsive\": true}\n",
       "                    ).then(function(){\n",
       "                            \n",
       "var gd = document.getElementById('425f45c6-2aa2-451b-b1ea-f07b47f714f3');\n",
       "var x = new MutationObserver(function (mutations, observer) {{\n",
       "        var display = window.getComputedStyle(gd).display;\n",
       "        if (!display || display === 'none') {{\n",
       "            console.log([gd, 'removed!']);\n",
       "            Plotly.purge(gd);\n",
       "            observer.disconnect();\n",
       "        }}\n",
       "}});\n",
       "\n",
       "// Listen for the removal of the full notebook cells\n",
       "var notebookContainer = gd.closest('#notebook-container');\n",
       "if (notebookContainer) {{\n",
       "    x.observe(notebookContainer, {childList: true});\n",
       "}}\n",
       "\n",
       "// Listen for the clearing of the current output cell\n",
       "var outputEl = gd.closest('.output');\n",
       "if (outputEl) {{\n",
       "    x.observe(outputEl, {childList: true});\n",
       "}}\n",
       "\n",
       "                        })\n",
       "                };\n",
       "                });\n",
       "            </script>\n",
       "        </div>"
      ]
     },
     "metadata": {},
     "output_type": "display_data"
    }
   ],
   "source": [
    "#First plot\n",
    "trace0 = go.Scatter(\n",
    "    x = dates,\n",
    "    y = CBSObj[\"talking_about_count\"].values,\n",
    ")\n",
    "\n",
    "data = [trace0]\n",
    "\n",
    "layout = go.Layout(\n",
    "    title='The Talking_about_count of CBSNews from 2016 to 2018',\n",
    "    xaxis=dict(title='Time'),\n",
    "    yaxis=dict(title='talking_about_count')\n",
    ")\n",
    "\n",
    "fig = go.Figure(data=data, layout=layout)\n",
    "\n",
    "py.iplot(fig, filename='CBSNews')"
   ]
  },
  {
   "cell_type": "markdown",
   "metadata": {},
   "source": [
    "1. According to TalkingCount of CBSNews show above, We can find that in the fourth quarter of 2016, CBSNews' talking_count was quite high, and then slowly dropped. After checking the information on the website, we found that the reason is President Election in the fourth quarter of 2016, especially in Nov 8 2016 -- Election Night.\n",
    "\n",
    "1. According to TalkingCount of CBSNews show above, We can find that in the July of 2017, CBSNews' talking_count was quite high, and then slowly dropped. After checking the information on the website, we found that the reason is Some news, like <Did Ukraine try to interfere in the 2016 election on Clinton's behalf?> atrract the public's eyes. So the count increased so quickly."
   ]
  },
  {
   "cell_type": "markdown",
   "metadata": {},
   "source": [
    "<h1 align=\"center\"> Question two </h1>\n",
    "<h7 align=\"center\"> Facebook check-ins as a metric for foot traffic for restaurant, hospitality and retail businesses. Who are the winners in attracting customers to physical locations. </h2>"
   ]
  },
  {
   "cell_type": "code",
   "execution_count": 93,
   "metadata": {},
   "outputs": [],
   "source": [
    "StdObj = groupObj.sum()[[\"checkins\"]]\n",
    "CheckIn_Obj = StdObj.sort_values(by=\"checkins\", ascending=False)"
   ]
  },
  {
   "cell_type": "code",
   "execution_count": 94,
   "metadata": {},
   "outputs": [
    {
     "data": {
      "application/vnd.plotly.v1+json": {
       "config": {
        "linkText": "Export to plot.ly",
        "plotlyServerURL": "https://plot.ly",
        "showLink": false
       },
       "data": [
        {
         "type": "bar",
         "x": [
          "Disneyland",
          "WaltDisneyWorld",
          "KnottsBerryFarm",
          "SeaWorld",
          "TheGarden",
          "DisneylandParisfr",
          "BuschGardensTampaBay",
          "cedarpoint",
          "empirestatebuilding",
          "wynnlasvegas"
         ],
         "y": [
          7966491074,
          3057713075,
          2400647362,
          2346420768,
          2139298637,
          2028963568,
          1817112592,
          1323897601,
          1304477805,
          959992611
         ]
        }
       ],
       "layout": {
        "barmode": "group",
        "template": {
         "data": {
          "bar": [
           {
            "error_x": {
             "color": "#2a3f5f"
            },
            "error_y": {
             "color": "#2a3f5f"
            },
            "marker": {
             "line": {
              "color": "#E5ECF6",
              "width": 0.5
             }
            },
            "type": "bar"
           }
          ],
          "barpolar": [
           {
            "marker": {
             "line": {
              "color": "#E5ECF6",
              "width": 0.5
             }
            },
            "type": "barpolar"
           }
          ],
          "carpet": [
           {
            "aaxis": {
             "endlinecolor": "#2a3f5f",
             "gridcolor": "white",
             "linecolor": "white",
             "minorgridcolor": "white",
             "startlinecolor": "#2a3f5f"
            },
            "baxis": {
             "endlinecolor": "#2a3f5f",
             "gridcolor": "white",
             "linecolor": "white",
             "minorgridcolor": "white",
             "startlinecolor": "#2a3f5f"
            },
            "type": "carpet"
           }
          ],
          "choropleth": [
           {
            "colorbar": {
             "outlinewidth": 0,
             "ticks": ""
            },
            "type": "choropleth"
           }
          ],
          "contour": [
           {
            "colorbar": {
             "outlinewidth": 0,
             "ticks": ""
            },
            "colorscale": [
             [
              0,
              "#0d0887"
             ],
             [
              0.1111111111111111,
              "#46039f"
             ],
             [
              0.2222222222222222,
              "#7201a8"
             ],
             [
              0.3333333333333333,
              "#9c179e"
             ],
             [
              0.4444444444444444,
              "#bd3786"
             ],
             [
              0.5555555555555556,
              "#d8576b"
             ],
             [
              0.6666666666666666,
              "#ed7953"
             ],
             [
              0.7777777777777778,
              "#fb9f3a"
             ],
             [
              0.8888888888888888,
              "#fdca26"
             ],
             [
              1,
              "#f0f921"
             ]
            ],
            "type": "contour"
           }
          ],
          "contourcarpet": [
           {
            "colorbar": {
             "outlinewidth": 0,
             "ticks": ""
            },
            "type": "contourcarpet"
           }
          ],
          "heatmap": [
           {
            "colorbar": {
             "outlinewidth": 0,
             "ticks": ""
            },
            "colorscale": [
             [
              0,
              "#0d0887"
             ],
             [
              0.1111111111111111,
              "#46039f"
             ],
             [
              0.2222222222222222,
              "#7201a8"
             ],
             [
              0.3333333333333333,
              "#9c179e"
             ],
             [
              0.4444444444444444,
              "#bd3786"
             ],
             [
              0.5555555555555556,
              "#d8576b"
             ],
             [
              0.6666666666666666,
              "#ed7953"
             ],
             [
              0.7777777777777778,
              "#fb9f3a"
             ],
             [
              0.8888888888888888,
              "#fdca26"
             ],
             [
              1,
              "#f0f921"
             ]
            ],
            "type": "heatmap"
           }
          ],
          "heatmapgl": [
           {
            "colorbar": {
             "outlinewidth": 0,
             "ticks": ""
            },
            "colorscale": [
             [
              0,
              "#0d0887"
             ],
             [
              0.1111111111111111,
              "#46039f"
             ],
             [
              0.2222222222222222,
              "#7201a8"
             ],
             [
              0.3333333333333333,
              "#9c179e"
             ],
             [
              0.4444444444444444,
              "#bd3786"
             ],
             [
              0.5555555555555556,
              "#d8576b"
             ],
             [
              0.6666666666666666,
              "#ed7953"
             ],
             [
              0.7777777777777778,
              "#fb9f3a"
             ],
             [
              0.8888888888888888,
              "#fdca26"
             ],
             [
              1,
              "#f0f921"
             ]
            ],
            "type": "heatmapgl"
           }
          ],
          "histogram": [
           {
            "marker": {
             "colorbar": {
              "outlinewidth": 0,
              "ticks": ""
             }
            },
            "type": "histogram"
           }
          ],
          "histogram2d": [
           {
            "colorbar": {
             "outlinewidth": 0,
             "ticks": ""
            },
            "colorscale": [
             [
              0,
              "#0d0887"
             ],
             [
              0.1111111111111111,
              "#46039f"
             ],
             [
              0.2222222222222222,
              "#7201a8"
             ],
             [
              0.3333333333333333,
              "#9c179e"
             ],
             [
              0.4444444444444444,
              "#bd3786"
             ],
             [
              0.5555555555555556,
              "#d8576b"
             ],
             [
              0.6666666666666666,
              "#ed7953"
             ],
             [
              0.7777777777777778,
              "#fb9f3a"
             ],
             [
              0.8888888888888888,
              "#fdca26"
             ],
             [
              1,
              "#f0f921"
             ]
            ],
            "type": "histogram2d"
           }
          ],
          "histogram2dcontour": [
           {
            "colorbar": {
             "outlinewidth": 0,
             "ticks": ""
            },
            "colorscale": [
             [
              0,
              "#0d0887"
             ],
             [
              0.1111111111111111,
              "#46039f"
             ],
             [
              0.2222222222222222,
              "#7201a8"
             ],
             [
              0.3333333333333333,
              "#9c179e"
             ],
             [
              0.4444444444444444,
              "#bd3786"
             ],
             [
              0.5555555555555556,
              "#d8576b"
             ],
             [
              0.6666666666666666,
              "#ed7953"
             ],
             [
              0.7777777777777778,
              "#fb9f3a"
             ],
             [
              0.8888888888888888,
              "#fdca26"
             ],
             [
              1,
              "#f0f921"
             ]
            ],
            "type": "histogram2dcontour"
           }
          ],
          "mesh3d": [
           {
            "colorbar": {
             "outlinewidth": 0,
             "ticks": ""
            },
            "type": "mesh3d"
           }
          ],
          "parcoords": [
           {
            "line": {
             "colorbar": {
              "outlinewidth": 0,
              "ticks": ""
             }
            },
            "type": "parcoords"
           }
          ],
          "scatter": [
           {
            "marker": {
             "colorbar": {
              "outlinewidth": 0,
              "ticks": ""
             }
            },
            "type": "scatter"
           }
          ],
          "scatter3d": [
           {
            "line": {
             "colorbar": {
              "outlinewidth": 0,
              "ticks": ""
             }
            },
            "marker": {
             "colorbar": {
              "outlinewidth": 0,
              "ticks": ""
             }
            },
            "type": "scatter3d"
           }
          ],
          "scattercarpet": [
           {
            "marker": {
             "colorbar": {
              "outlinewidth": 0,
              "ticks": ""
             }
            },
            "type": "scattercarpet"
           }
          ],
          "scattergeo": [
           {
            "marker": {
             "colorbar": {
              "outlinewidth": 0,
              "ticks": ""
             }
            },
            "type": "scattergeo"
           }
          ],
          "scattergl": [
           {
            "marker": {
             "colorbar": {
              "outlinewidth": 0,
              "ticks": ""
             }
            },
            "type": "scattergl"
           }
          ],
          "scattermapbox": [
           {
            "marker": {
             "colorbar": {
              "outlinewidth": 0,
              "ticks": ""
             }
            },
            "type": "scattermapbox"
           }
          ],
          "scatterpolar": [
           {
            "marker": {
             "colorbar": {
              "outlinewidth": 0,
              "ticks": ""
             }
            },
            "type": "scatterpolar"
           }
          ],
          "scatterpolargl": [
           {
            "marker": {
             "colorbar": {
              "outlinewidth": 0,
              "ticks": ""
             }
            },
            "type": "scatterpolargl"
           }
          ],
          "scatterternary": [
           {
            "marker": {
             "colorbar": {
              "outlinewidth": 0,
              "ticks": ""
             }
            },
            "type": "scatterternary"
           }
          ],
          "surface": [
           {
            "colorbar": {
             "outlinewidth": 0,
             "ticks": ""
            },
            "colorscale": [
             [
              0,
              "#0d0887"
             ],
             [
              0.1111111111111111,
              "#46039f"
             ],
             [
              0.2222222222222222,
              "#7201a8"
             ],
             [
              0.3333333333333333,
              "#9c179e"
             ],
             [
              0.4444444444444444,
              "#bd3786"
             ],
             [
              0.5555555555555556,
              "#d8576b"
             ],
             [
              0.6666666666666666,
              "#ed7953"
             ],
             [
              0.7777777777777778,
              "#fb9f3a"
             ],
             [
              0.8888888888888888,
              "#fdca26"
             ],
             [
              1,
              "#f0f921"
             ]
            ],
            "type": "surface"
           }
          ],
          "table": [
           {
            "cells": {
             "fill": {
              "color": "#EBF0F8"
             },
             "line": {
              "color": "white"
             }
            },
            "header": {
             "fill": {
              "color": "#C8D4E3"
             },
             "line": {
              "color": "white"
             }
            },
            "type": "table"
           }
          ]
         },
         "layout": {
          "annotationdefaults": {
           "arrowcolor": "#2a3f5f",
           "arrowhead": 0,
           "arrowwidth": 1
          },
          "colorscale": {
           "diverging": [
            [
             0,
             "#8e0152"
            ],
            [
             0.1,
             "#c51b7d"
            ],
            [
             0.2,
             "#de77ae"
            ],
            [
             0.3,
             "#f1b6da"
            ],
            [
             0.4,
             "#fde0ef"
            ],
            [
             0.5,
             "#f7f7f7"
            ],
            [
             0.6,
             "#e6f5d0"
            ],
            [
             0.7,
             "#b8e186"
            ],
            [
             0.8,
             "#7fbc41"
            ],
            [
             0.9,
             "#4d9221"
            ],
            [
             1,
             "#276419"
            ]
           ],
           "sequential": [
            [
             0,
             "#0d0887"
            ],
            [
             0.1111111111111111,
             "#46039f"
            ],
            [
             0.2222222222222222,
             "#7201a8"
            ],
            [
             0.3333333333333333,
             "#9c179e"
            ],
            [
             0.4444444444444444,
             "#bd3786"
            ],
            [
             0.5555555555555556,
             "#d8576b"
            ],
            [
             0.6666666666666666,
             "#ed7953"
            ],
            [
             0.7777777777777778,
             "#fb9f3a"
            ],
            [
             0.8888888888888888,
             "#fdca26"
            ],
            [
             1,
             "#f0f921"
            ]
           ],
           "sequentialminus": [
            [
             0,
             "#0d0887"
            ],
            [
             0.1111111111111111,
             "#46039f"
            ],
            [
             0.2222222222222222,
             "#7201a8"
            ],
            [
             0.3333333333333333,
             "#9c179e"
            ],
            [
             0.4444444444444444,
             "#bd3786"
            ],
            [
             0.5555555555555556,
             "#d8576b"
            ],
            [
             0.6666666666666666,
             "#ed7953"
            ],
            [
             0.7777777777777778,
             "#fb9f3a"
            ],
            [
             0.8888888888888888,
             "#fdca26"
            ],
            [
             1,
             "#f0f921"
            ]
           ]
          },
          "colorway": [
           "#636efa",
           "#EF553B",
           "#00cc96",
           "#ab63fa",
           "#FFA15A",
           "#19d3f3",
           "#FF6692",
           "#B6E880",
           "#FF97FF",
           "#FECB52"
          ],
          "font": {
           "color": "#2a3f5f"
          },
          "geo": {
           "bgcolor": "white",
           "lakecolor": "white",
           "landcolor": "#E5ECF6",
           "showlakes": true,
           "showland": true,
           "subunitcolor": "white"
          },
          "hoverlabel": {
           "align": "left"
          },
          "hovermode": "closest",
          "mapbox": {
           "style": "light"
          },
          "paper_bgcolor": "white",
          "plot_bgcolor": "#E5ECF6",
          "polar": {
           "angularaxis": {
            "gridcolor": "white",
            "linecolor": "white",
            "ticks": ""
           },
           "bgcolor": "#E5ECF6",
           "radialaxis": {
            "gridcolor": "white",
            "linecolor": "white",
            "ticks": ""
           }
          },
          "scene": {
           "xaxis": {
            "backgroundcolor": "#E5ECF6",
            "gridcolor": "white",
            "gridwidth": 2,
            "linecolor": "white",
            "showbackground": true,
            "ticks": "",
            "zerolinecolor": "white"
           },
           "yaxis": {
            "backgroundcolor": "#E5ECF6",
            "gridcolor": "white",
            "gridwidth": 2,
            "linecolor": "white",
            "showbackground": true,
            "ticks": "",
            "zerolinecolor": "white"
           },
           "zaxis": {
            "backgroundcolor": "#E5ECF6",
            "gridcolor": "white",
            "gridwidth": 2,
            "linecolor": "white",
            "showbackground": true,
            "ticks": "",
            "zerolinecolor": "white"
           }
          },
          "shapedefaults": {
           "line": {
            "color": "#2a3f5f"
           }
          },
          "ternary": {
           "aaxis": {
            "gridcolor": "white",
            "linecolor": "white",
            "ticks": ""
           },
           "baxis": {
            "gridcolor": "white",
            "linecolor": "white",
            "ticks": ""
           },
           "bgcolor": "#E5ECF6",
           "caxis": {
            "gridcolor": "white",
            "linecolor": "white",
            "ticks": ""
           }
          },
          "title": {
           "x": 0.05
          },
          "xaxis": {
           "automargin": true,
           "gridcolor": "white",
           "linecolor": "white",
           "ticks": "",
           "zerolinecolor": "white",
           "zerolinewidth": 2
          },
          "yaxis": {
           "automargin": true,
           "gridcolor": "white",
           "linecolor": "white",
           "ticks": "",
           "zerolinecolor": "white",
           "zerolinewidth": 2
          }
         }
        },
        "title": {
         "text": "Ten winners in attracting customers to physical locations"
        },
        "xaxis": {
         "title": {
          "text": "Companies name"
         }
        },
        "yaxis": {
         "title": {
          "text": "CheckIns"
         }
        }
       }
      },
      "text/html": [
       "<div>\n",
       "        \n",
       "        \n",
       "            <div id=\"9634c7f8-3ebc-4b3a-b97f-37a7f553f7a0\" class=\"plotly-graph-div\" style=\"height:525px; width:100%;\"></div>\n",
       "            <script type=\"text/javascript\">\n",
       "                require([\"plotly\"], function(Plotly) {\n",
       "                    window.PLOTLYENV=window.PLOTLYENV || {};\n",
       "                    \n",
       "                if (document.getElementById(\"9634c7f8-3ebc-4b3a-b97f-37a7f553f7a0\")) {\n",
       "                    Plotly.newPlot(\n",
       "                        '9634c7f8-3ebc-4b3a-b97f-37a7f553f7a0',\n",
       "                        [{\"type\": \"bar\", \"x\": [\"Disneyland\", \"WaltDisneyWorld\", \"KnottsBerryFarm\", \"SeaWorld\", \"TheGarden\", \"DisneylandParisfr\", \"BuschGardensTampaBay\", \"cedarpoint\", \"empirestatebuilding\", \"wynnlasvegas\"], \"y\": [7966491074.0, 3057713075.0, 2400647362.0, 2346420768.0, 2139298637.0, 2028963568.0, 1817112592.0, 1323897601.0, 1304477805.0, 959992611.0]}],\n",
       "                        {\"barmode\": \"group\", \"template\": {\"data\": {\"bar\": [{\"error_x\": {\"color\": \"#2a3f5f\"}, \"error_y\": {\"color\": \"#2a3f5f\"}, \"marker\": {\"line\": {\"color\": \"#E5ECF6\", \"width\": 0.5}}, \"type\": \"bar\"}], \"barpolar\": [{\"marker\": {\"line\": {\"color\": \"#E5ECF6\", \"width\": 0.5}}, \"type\": \"barpolar\"}], \"carpet\": [{\"aaxis\": {\"endlinecolor\": \"#2a3f5f\", \"gridcolor\": \"white\", \"linecolor\": \"white\", \"minorgridcolor\": \"white\", \"startlinecolor\": \"#2a3f5f\"}, \"baxis\": {\"endlinecolor\": \"#2a3f5f\", \"gridcolor\": \"white\", \"linecolor\": \"white\", \"minorgridcolor\": \"white\", \"startlinecolor\": \"#2a3f5f\"}, \"type\": \"carpet\"}], \"choropleth\": [{\"colorbar\": {\"outlinewidth\": 0, \"ticks\": \"\"}, \"type\": \"choropleth\"}], \"contour\": [{\"colorbar\": {\"outlinewidth\": 0, \"ticks\": \"\"}, \"colorscale\": [[0.0, \"#0d0887\"], [0.1111111111111111, \"#46039f\"], [0.2222222222222222, \"#7201a8\"], [0.3333333333333333, \"#9c179e\"], [0.4444444444444444, \"#bd3786\"], [0.5555555555555556, \"#d8576b\"], [0.6666666666666666, \"#ed7953\"], [0.7777777777777778, \"#fb9f3a\"], [0.8888888888888888, \"#fdca26\"], [1.0, \"#f0f921\"]], \"type\": \"contour\"}], \"contourcarpet\": [{\"colorbar\": {\"outlinewidth\": 0, \"ticks\": \"\"}, \"type\": \"contourcarpet\"}], \"heatmap\": [{\"colorbar\": {\"outlinewidth\": 0, \"ticks\": \"\"}, \"colorscale\": [[0.0, \"#0d0887\"], [0.1111111111111111, \"#46039f\"], [0.2222222222222222, \"#7201a8\"], [0.3333333333333333, \"#9c179e\"], [0.4444444444444444, \"#bd3786\"], [0.5555555555555556, \"#d8576b\"], [0.6666666666666666, \"#ed7953\"], [0.7777777777777778, \"#fb9f3a\"], [0.8888888888888888, \"#fdca26\"], [1.0, \"#f0f921\"]], \"type\": \"heatmap\"}], \"heatmapgl\": [{\"colorbar\": {\"outlinewidth\": 0, \"ticks\": \"\"}, \"colorscale\": [[0.0, \"#0d0887\"], [0.1111111111111111, \"#46039f\"], [0.2222222222222222, \"#7201a8\"], [0.3333333333333333, \"#9c179e\"], [0.4444444444444444, \"#bd3786\"], [0.5555555555555556, \"#d8576b\"], [0.6666666666666666, \"#ed7953\"], [0.7777777777777778, \"#fb9f3a\"], [0.8888888888888888, \"#fdca26\"], [1.0, \"#f0f921\"]], \"type\": \"heatmapgl\"}], \"histogram\": [{\"marker\": {\"colorbar\": {\"outlinewidth\": 0, \"ticks\": \"\"}}, \"type\": \"histogram\"}], \"histogram2d\": [{\"colorbar\": {\"outlinewidth\": 0, \"ticks\": \"\"}, \"colorscale\": [[0.0, \"#0d0887\"], [0.1111111111111111, \"#46039f\"], [0.2222222222222222, \"#7201a8\"], [0.3333333333333333, \"#9c179e\"], [0.4444444444444444, \"#bd3786\"], [0.5555555555555556, \"#d8576b\"], [0.6666666666666666, \"#ed7953\"], [0.7777777777777778, \"#fb9f3a\"], [0.8888888888888888, \"#fdca26\"], [1.0, \"#f0f921\"]], \"type\": \"histogram2d\"}], \"histogram2dcontour\": [{\"colorbar\": {\"outlinewidth\": 0, \"ticks\": \"\"}, \"colorscale\": [[0.0, \"#0d0887\"], [0.1111111111111111, \"#46039f\"], [0.2222222222222222, \"#7201a8\"], [0.3333333333333333, \"#9c179e\"], [0.4444444444444444, \"#bd3786\"], [0.5555555555555556, \"#d8576b\"], [0.6666666666666666, \"#ed7953\"], [0.7777777777777778, \"#fb9f3a\"], [0.8888888888888888, \"#fdca26\"], [1.0, \"#f0f921\"]], \"type\": \"histogram2dcontour\"}], \"mesh3d\": [{\"colorbar\": {\"outlinewidth\": 0, \"ticks\": \"\"}, \"type\": \"mesh3d\"}], \"parcoords\": [{\"line\": {\"colorbar\": {\"outlinewidth\": 0, \"ticks\": \"\"}}, \"type\": \"parcoords\"}], \"scatter\": [{\"marker\": {\"colorbar\": {\"outlinewidth\": 0, \"ticks\": \"\"}}, \"type\": \"scatter\"}], \"scatter3d\": [{\"line\": {\"colorbar\": {\"outlinewidth\": 0, \"ticks\": \"\"}}, \"marker\": {\"colorbar\": {\"outlinewidth\": 0, \"ticks\": \"\"}}, \"type\": \"scatter3d\"}], \"scattercarpet\": [{\"marker\": {\"colorbar\": {\"outlinewidth\": 0, \"ticks\": \"\"}}, \"type\": \"scattercarpet\"}], \"scattergeo\": [{\"marker\": {\"colorbar\": {\"outlinewidth\": 0, \"ticks\": \"\"}}, \"type\": \"scattergeo\"}], \"scattergl\": [{\"marker\": {\"colorbar\": {\"outlinewidth\": 0, \"ticks\": \"\"}}, \"type\": \"scattergl\"}], \"scattermapbox\": [{\"marker\": {\"colorbar\": {\"outlinewidth\": 0, \"ticks\": \"\"}}, \"type\": \"scattermapbox\"}], \"scatterpolar\": [{\"marker\": {\"colorbar\": {\"outlinewidth\": 0, \"ticks\": \"\"}}, \"type\": \"scatterpolar\"}], \"scatterpolargl\": [{\"marker\": {\"colorbar\": {\"outlinewidth\": 0, \"ticks\": \"\"}}, \"type\": \"scatterpolargl\"}], \"scatterternary\": [{\"marker\": {\"colorbar\": {\"outlinewidth\": 0, \"ticks\": \"\"}}, \"type\": \"scatterternary\"}], \"surface\": [{\"colorbar\": {\"outlinewidth\": 0, \"ticks\": \"\"}, \"colorscale\": [[0.0, \"#0d0887\"], [0.1111111111111111, \"#46039f\"], [0.2222222222222222, \"#7201a8\"], [0.3333333333333333, \"#9c179e\"], [0.4444444444444444, \"#bd3786\"], [0.5555555555555556, \"#d8576b\"], [0.6666666666666666, \"#ed7953\"], [0.7777777777777778, \"#fb9f3a\"], [0.8888888888888888, \"#fdca26\"], [1.0, \"#f0f921\"]], \"type\": \"surface\"}], \"table\": [{\"cells\": {\"fill\": {\"color\": \"#EBF0F8\"}, \"line\": {\"color\": \"white\"}}, \"header\": {\"fill\": {\"color\": \"#C8D4E3\"}, \"line\": {\"color\": \"white\"}}, \"type\": \"table\"}]}, \"layout\": {\"annotationdefaults\": {\"arrowcolor\": \"#2a3f5f\", \"arrowhead\": 0, \"arrowwidth\": 1}, \"colorscale\": {\"diverging\": [[0, \"#8e0152\"], [0.1, \"#c51b7d\"], [0.2, \"#de77ae\"], [0.3, \"#f1b6da\"], [0.4, \"#fde0ef\"], [0.5, \"#f7f7f7\"], [0.6, \"#e6f5d0\"], [0.7, \"#b8e186\"], [0.8, \"#7fbc41\"], [0.9, \"#4d9221\"], [1, \"#276419\"]], \"sequential\": [[0.0, \"#0d0887\"], [0.1111111111111111, \"#46039f\"], [0.2222222222222222, \"#7201a8\"], [0.3333333333333333, \"#9c179e\"], [0.4444444444444444, \"#bd3786\"], [0.5555555555555556, \"#d8576b\"], [0.6666666666666666, \"#ed7953\"], [0.7777777777777778, \"#fb9f3a\"], [0.8888888888888888, \"#fdca26\"], [1.0, \"#f0f921\"]], \"sequentialminus\": [[0.0, \"#0d0887\"], [0.1111111111111111, \"#46039f\"], [0.2222222222222222, \"#7201a8\"], [0.3333333333333333, \"#9c179e\"], [0.4444444444444444, \"#bd3786\"], [0.5555555555555556, \"#d8576b\"], [0.6666666666666666, \"#ed7953\"], [0.7777777777777778, \"#fb9f3a\"], [0.8888888888888888, \"#fdca26\"], [1.0, \"#f0f921\"]]}, \"colorway\": [\"#636efa\", \"#EF553B\", \"#00cc96\", \"#ab63fa\", \"#FFA15A\", \"#19d3f3\", \"#FF6692\", \"#B6E880\", \"#FF97FF\", \"#FECB52\"], \"font\": {\"color\": \"#2a3f5f\"}, \"geo\": {\"bgcolor\": \"white\", \"lakecolor\": \"white\", \"landcolor\": \"#E5ECF6\", \"showlakes\": true, \"showland\": true, \"subunitcolor\": \"white\"}, \"hoverlabel\": {\"align\": \"left\"}, \"hovermode\": \"closest\", \"mapbox\": {\"style\": \"light\"}, \"paper_bgcolor\": \"white\", \"plot_bgcolor\": \"#E5ECF6\", \"polar\": {\"angularaxis\": {\"gridcolor\": \"white\", \"linecolor\": \"white\", \"ticks\": \"\"}, \"bgcolor\": \"#E5ECF6\", \"radialaxis\": {\"gridcolor\": \"white\", \"linecolor\": \"white\", \"ticks\": \"\"}}, \"scene\": {\"xaxis\": {\"backgroundcolor\": \"#E5ECF6\", \"gridcolor\": \"white\", \"gridwidth\": 2, \"linecolor\": \"white\", \"showbackground\": true, \"ticks\": \"\", \"zerolinecolor\": \"white\"}, \"yaxis\": {\"backgroundcolor\": \"#E5ECF6\", \"gridcolor\": \"white\", \"gridwidth\": 2, \"linecolor\": \"white\", \"showbackground\": true, \"ticks\": \"\", \"zerolinecolor\": \"white\"}, \"zaxis\": {\"backgroundcolor\": \"#E5ECF6\", \"gridcolor\": \"white\", \"gridwidth\": 2, \"linecolor\": \"white\", \"showbackground\": true, \"ticks\": \"\", \"zerolinecolor\": \"white\"}}, \"shapedefaults\": {\"line\": {\"color\": \"#2a3f5f\"}}, \"ternary\": {\"aaxis\": {\"gridcolor\": \"white\", \"linecolor\": \"white\", \"ticks\": \"\"}, \"baxis\": {\"gridcolor\": \"white\", \"linecolor\": \"white\", \"ticks\": \"\"}, \"bgcolor\": \"#E5ECF6\", \"caxis\": {\"gridcolor\": \"white\", \"linecolor\": \"white\", \"ticks\": \"\"}}, \"title\": {\"x\": 0.05}, \"xaxis\": {\"automargin\": true, \"gridcolor\": \"white\", \"linecolor\": \"white\", \"ticks\": \"\", \"zerolinecolor\": \"white\", \"zerolinewidth\": 2}, \"yaxis\": {\"automargin\": true, \"gridcolor\": \"white\", \"linecolor\": \"white\", \"ticks\": \"\", \"zerolinecolor\": \"white\", \"zerolinewidth\": 2}}}, \"title\": {\"text\": \"Ten winners in attracting customers to physical locations\"}, \"xaxis\": {\"title\": {\"text\": \"Companies name\"}}, \"yaxis\": {\"title\": {\"text\": \"CheckIns\"}}},\n",
       "                        {\"responsive\": true}\n",
       "                    ).then(function(){\n",
       "                            \n",
       "var gd = document.getElementById('9634c7f8-3ebc-4b3a-b97f-37a7f553f7a0');\n",
       "var x = new MutationObserver(function (mutations, observer) {{\n",
       "        var display = window.getComputedStyle(gd).display;\n",
       "        if (!display || display === 'none') {{\n",
       "            console.log([gd, 'removed!']);\n",
       "            Plotly.purge(gd);\n",
       "            observer.disconnect();\n",
       "        }}\n",
       "}});\n",
       "\n",
       "// Listen for the removal of the full notebook cells\n",
       "var notebookContainer = gd.closest('#notebook-container');\n",
       "if (notebookContainer) {{\n",
       "    x.observe(notebookContainer, {childList: true});\n",
       "}}\n",
       "\n",
       "// Listen for the clearing of the current output cell\n",
       "var outputEl = gd.closest('.output');\n",
       "if (outputEl) {{\n",
       "    x.observe(outputEl, {childList: true});\n",
       "}}\n",
       "\n",
       "                        })\n",
       "                };\n",
       "                });\n",
       "            </script>\n",
       "        </div>"
      ]
     },
     "metadata": {},
     "output_type": "display_data"
    }
   ],
   "source": [
    "#First plot\n",
    "trace0 = go.Bar(\n",
    "    x = CheckIn_Obj[\"checkins\"].index.values[:10],\n",
    "    y = CheckIn_Obj[\"checkins\"].values[:10],\n",
    ")\n",
    "\n",
    "data = [trace0]\n",
    "\n",
    "layout = go.Layout(\n",
    "    title='Ten winners in attracting customers to physical locations',\n",
    "    xaxis=dict(title='Companies name'),\n",
    "    yaxis=dict(title='CheckIns'),\n",
    "    barmode='group'\n",
    ")\n",
    "\n",
    "\n",
    "fig = go.Figure(data=data, layout=layout)\n",
    "\n",
    "py.iplot(fig, filename='Companies-Grouped')"
   ]
  },
  {
   "cell_type": "markdown",
   "metadata": {},
   "source": [
    "These are Ten winner in attracting customers to physical locations. Disneyland performs best."
   ]
  },
  {
   "cell_type": "markdown",
   "metadata": {},
   "source": [
    "<h1 align=\"center\"> Question three </h1>\n",
    "<h7 align=\"center\"> Facebook followers and which companies are the most successful at growing social media traction </h7>"
   ]
  },
  {
   "cell_type": "markdown",
   "metadata": {},
   "source": [
    "I think to judge whether a company is the most popular, the best method is to choose the company with the largest sum of checkIn and talk_and_counts."
   ]
  },
  {
   "cell_type": "code",
   "execution_count": 102,
   "metadata": {},
   "outputs": [],
   "source": [
    "faceObj[\"Social_traction\"] = faceObj[\"checkins\"] + faceObj[\"talking_about_count\"]\n",
    "groupObj = faceObj.groupby(\"username\")\n",
    "StdObj = groupObj.sum()[[\"Social_traction\"]]\n",
    "Social_Obj = StdObj.sort_values(by=\"Social_traction\", ascending=False)"
   ]
  },
  {
   "cell_type": "code",
   "execution_count": 104,
   "metadata": {},
   "outputs": [
    {
     "data": {
      "application/vnd.plotly.v1+json": {
       "config": {
        "linkText": "Export to plot.ly",
        "plotlyServerURL": "https://plot.ly",
        "showLink": false
       },
       "data": [
        {
         "type": "bar",
         "x": [
          "Disneyland",
          "WaltDisneyWorld",
          "KnottsBerryFarm",
          "SeaWorld",
          "TheGarden",
          "DisneylandParisfr",
          "manchesterunited",
          "BuschGardensTampaBay",
          "wwe",
          "cedarpoint"
         ],
         "y": [
          8038471543,
          3144793021,
          2421022908,
          2386972476,
          2147035178,
          2057169505,
          2012298243,
          1830575098,
          1634394648,
          1351887192
         ]
        }
       ],
       "layout": {
        "barmode": "group",
        "template": {
         "data": {
          "bar": [
           {
            "error_x": {
             "color": "#2a3f5f"
            },
            "error_y": {
             "color": "#2a3f5f"
            },
            "marker": {
             "line": {
              "color": "#E5ECF6",
              "width": 0.5
             }
            },
            "type": "bar"
           }
          ],
          "barpolar": [
           {
            "marker": {
             "line": {
              "color": "#E5ECF6",
              "width": 0.5
             }
            },
            "type": "barpolar"
           }
          ],
          "carpet": [
           {
            "aaxis": {
             "endlinecolor": "#2a3f5f",
             "gridcolor": "white",
             "linecolor": "white",
             "minorgridcolor": "white",
             "startlinecolor": "#2a3f5f"
            },
            "baxis": {
             "endlinecolor": "#2a3f5f",
             "gridcolor": "white",
             "linecolor": "white",
             "minorgridcolor": "white",
             "startlinecolor": "#2a3f5f"
            },
            "type": "carpet"
           }
          ],
          "choropleth": [
           {
            "colorbar": {
             "outlinewidth": 0,
             "ticks": ""
            },
            "type": "choropleth"
           }
          ],
          "contour": [
           {
            "colorbar": {
             "outlinewidth": 0,
             "ticks": ""
            },
            "colorscale": [
             [
              0,
              "#0d0887"
             ],
             [
              0.1111111111111111,
              "#46039f"
             ],
             [
              0.2222222222222222,
              "#7201a8"
             ],
             [
              0.3333333333333333,
              "#9c179e"
             ],
             [
              0.4444444444444444,
              "#bd3786"
             ],
             [
              0.5555555555555556,
              "#d8576b"
             ],
             [
              0.6666666666666666,
              "#ed7953"
             ],
             [
              0.7777777777777778,
              "#fb9f3a"
             ],
             [
              0.8888888888888888,
              "#fdca26"
             ],
             [
              1,
              "#f0f921"
             ]
            ],
            "type": "contour"
           }
          ],
          "contourcarpet": [
           {
            "colorbar": {
             "outlinewidth": 0,
             "ticks": ""
            },
            "type": "contourcarpet"
           }
          ],
          "heatmap": [
           {
            "colorbar": {
             "outlinewidth": 0,
             "ticks": ""
            },
            "colorscale": [
             [
              0,
              "#0d0887"
             ],
             [
              0.1111111111111111,
              "#46039f"
             ],
             [
              0.2222222222222222,
              "#7201a8"
             ],
             [
              0.3333333333333333,
              "#9c179e"
             ],
             [
              0.4444444444444444,
              "#bd3786"
             ],
             [
              0.5555555555555556,
              "#d8576b"
             ],
             [
              0.6666666666666666,
              "#ed7953"
             ],
             [
              0.7777777777777778,
              "#fb9f3a"
             ],
             [
              0.8888888888888888,
              "#fdca26"
             ],
             [
              1,
              "#f0f921"
             ]
            ],
            "type": "heatmap"
           }
          ],
          "heatmapgl": [
           {
            "colorbar": {
             "outlinewidth": 0,
             "ticks": ""
            },
            "colorscale": [
             [
              0,
              "#0d0887"
             ],
             [
              0.1111111111111111,
              "#46039f"
             ],
             [
              0.2222222222222222,
              "#7201a8"
             ],
             [
              0.3333333333333333,
              "#9c179e"
             ],
             [
              0.4444444444444444,
              "#bd3786"
             ],
             [
              0.5555555555555556,
              "#d8576b"
             ],
             [
              0.6666666666666666,
              "#ed7953"
             ],
             [
              0.7777777777777778,
              "#fb9f3a"
             ],
             [
              0.8888888888888888,
              "#fdca26"
             ],
             [
              1,
              "#f0f921"
             ]
            ],
            "type": "heatmapgl"
           }
          ],
          "histogram": [
           {
            "marker": {
             "colorbar": {
              "outlinewidth": 0,
              "ticks": ""
             }
            },
            "type": "histogram"
           }
          ],
          "histogram2d": [
           {
            "colorbar": {
             "outlinewidth": 0,
             "ticks": ""
            },
            "colorscale": [
             [
              0,
              "#0d0887"
             ],
             [
              0.1111111111111111,
              "#46039f"
             ],
             [
              0.2222222222222222,
              "#7201a8"
             ],
             [
              0.3333333333333333,
              "#9c179e"
             ],
             [
              0.4444444444444444,
              "#bd3786"
             ],
             [
              0.5555555555555556,
              "#d8576b"
             ],
             [
              0.6666666666666666,
              "#ed7953"
             ],
             [
              0.7777777777777778,
              "#fb9f3a"
             ],
             [
              0.8888888888888888,
              "#fdca26"
             ],
             [
              1,
              "#f0f921"
             ]
            ],
            "type": "histogram2d"
           }
          ],
          "histogram2dcontour": [
           {
            "colorbar": {
             "outlinewidth": 0,
             "ticks": ""
            },
            "colorscale": [
             [
              0,
              "#0d0887"
             ],
             [
              0.1111111111111111,
              "#46039f"
             ],
             [
              0.2222222222222222,
              "#7201a8"
             ],
             [
              0.3333333333333333,
              "#9c179e"
             ],
             [
              0.4444444444444444,
              "#bd3786"
             ],
             [
              0.5555555555555556,
              "#d8576b"
             ],
             [
              0.6666666666666666,
              "#ed7953"
             ],
             [
              0.7777777777777778,
              "#fb9f3a"
             ],
             [
              0.8888888888888888,
              "#fdca26"
             ],
             [
              1,
              "#f0f921"
             ]
            ],
            "type": "histogram2dcontour"
           }
          ],
          "mesh3d": [
           {
            "colorbar": {
             "outlinewidth": 0,
             "ticks": ""
            },
            "type": "mesh3d"
           }
          ],
          "parcoords": [
           {
            "line": {
             "colorbar": {
              "outlinewidth": 0,
              "ticks": ""
             }
            },
            "type": "parcoords"
           }
          ],
          "scatter": [
           {
            "marker": {
             "colorbar": {
              "outlinewidth": 0,
              "ticks": ""
             }
            },
            "type": "scatter"
           }
          ],
          "scatter3d": [
           {
            "line": {
             "colorbar": {
              "outlinewidth": 0,
              "ticks": ""
             }
            },
            "marker": {
             "colorbar": {
              "outlinewidth": 0,
              "ticks": ""
             }
            },
            "type": "scatter3d"
           }
          ],
          "scattercarpet": [
           {
            "marker": {
             "colorbar": {
              "outlinewidth": 0,
              "ticks": ""
             }
            },
            "type": "scattercarpet"
           }
          ],
          "scattergeo": [
           {
            "marker": {
             "colorbar": {
              "outlinewidth": 0,
              "ticks": ""
             }
            },
            "type": "scattergeo"
           }
          ],
          "scattergl": [
           {
            "marker": {
             "colorbar": {
              "outlinewidth": 0,
              "ticks": ""
             }
            },
            "type": "scattergl"
           }
          ],
          "scattermapbox": [
           {
            "marker": {
             "colorbar": {
              "outlinewidth": 0,
              "ticks": ""
             }
            },
            "type": "scattermapbox"
           }
          ],
          "scatterpolar": [
           {
            "marker": {
             "colorbar": {
              "outlinewidth": 0,
              "ticks": ""
             }
            },
            "type": "scatterpolar"
           }
          ],
          "scatterpolargl": [
           {
            "marker": {
             "colorbar": {
              "outlinewidth": 0,
              "ticks": ""
             }
            },
            "type": "scatterpolargl"
           }
          ],
          "scatterternary": [
           {
            "marker": {
             "colorbar": {
              "outlinewidth": 0,
              "ticks": ""
             }
            },
            "type": "scatterternary"
           }
          ],
          "surface": [
           {
            "colorbar": {
             "outlinewidth": 0,
             "ticks": ""
            },
            "colorscale": [
             [
              0,
              "#0d0887"
             ],
             [
              0.1111111111111111,
              "#46039f"
             ],
             [
              0.2222222222222222,
              "#7201a8"
             ],
             [
              0.3333333333333333,
              "#9c179e"
             ],
             [
              0.4444444444444444,
              "#bd3786"
             ],
             [
              0.5555555555555556,
              "#d8576b"
             ],
             [
              0.6666666666666666,
              "#ed7953"
             ],
             [
              0.7777777777777778,
              "#fb9f3a"
             ],
             [
              0.8888888888888888,
              "#fdca26"
             ],
             [
              1,
              "#f0f921"
             ]
            ],
            "type": "surface"
           }
          ],
          "table": [
           {
            "cells": {
             "fill": {
              "color": "#EBF0F8"
             },
             "line": {
              "color": "white"
             }
            },
            "header": {
             "fill": {
              "color": "#C8D4E3"
             },
             "line": {
              "color": "white"
             }
            },
            "type": "table"
           }
          ]
         },
         "layout": {
          "annotationdefaults": {
           "arrowcolor": "#2a3f5f",
           "arrowhead": 0,
           "arrowwidth": 1
          },
          "colorscale": {
           "diverging": [
            [
             0,
             "#8e0152"
            ],
            [
             0.1,
             "#c51b7d"
            ],
            [
             0.2,
             "#de77ae"
            ],
            [
             0.3,
             "#f1b6da"
            ],
            [
             0.4,
             "#fde0ef"
            ],
            [
             0.5,
             "#f7f7f7"
            ],
            [
             0.6,
             "#e6f5d0"
            ],
            [
             0.7,
             "#b8e186"
            ],
            [
             0.8,
             "#7fbc41"
            ],
            [
             0.9,
             "#4d9221"
            ],
            [
             1,
             "#276419"
            ]
           ],
           "sequential": [
            [
             0,
             "#0d0887"
            ],
            [
             0.1111111111111111,
             "#46039f"
            ],
            [
             0.2222222222222222,
             "#7201a8"
            ],
            [
             0.3333333333333333,
             "#9c179e"
            ],
            [
             0.4444444444444444,
             "#bd3786"
            ],
            [
             0.5555555555555556,
             "#d8576b"
            ],
            [
             0.6666666666666666,
             "#ed7953"
            ],
            [
             0.7777777777777778,
             "#fb9f3a"
            ],
            [
             0.8888888888888888,
             "#fdca26"
            ],
            [
             1,
             "#f0f921"
            ]
           ],
           "sequentialminus": [
            [
             0,
             "#0d0887"
            ],
            [
             0.1111111111111111,
             "#46039f"
            ],
            [
             0.2222222222222222,
             "#7201a8"
            ],
            [
             0.3333333333333333,
             "#9c179e"
            ],
            [
             0.4444444444444444,
             "#bd3786"
            ],
            [
             0.5555555555555556,
             "#d8576b"
            ],
            [
             0.6666666666666666,
             "#ed7953"
            ],
            [
             0.7777777777777778,
             "#fb9f3a"
            ],
            [
             0.8888888888888888,
             "#fdca26"
            ],
            [
             1,
             "#f0f921"
            ]
           ]
          },
          "colorway": [
           "#636efa",
           "#EF553B",
           "#00cc96",
           "#ab63fa",
           "#FFA15A",
           "#19d3f3",
           "#FF6692",
           "#B6E880",
           "#FF97FF",
           "#FECB52"
          ],
          "font": {
           "color": "#2a3f5f"
          },
          "geo": {
           "bgcolor": "white",
           "lakecolor": "white",
           "landcolor": "#E5ECF6",
           "showlakes": true,
           "showland": true,
           "subunitcolor": "white"
          },
          "hoverlabel": {
           "align": "left"
          },
          "hovermode": "closest",
          "mapbox": {
           "style": "light"
          },
          "paper_bgcolor": "white",
          "plot_bgcolor": "#E5ECF6",
          "polar": {
           "angularaxis": {
            "gridcolor": "white",
            "linecolor": "white",
            "ticks": ""
           },
           "bgcolor": "#E5ECF6",
           "radialaxis": {
            "gridcolor": "white",
            "linecolor": "white",
            "ticks": ""
           }
          },
          "scene": {
           "xaxis": {
            "backgroundcolor": "#E5ECF6",
            "gridcolor": "white",
            "gridwidth": 2,
            "linecolor": "white",
            "showbackground": true,
            "ticks": "",
            "zerolinecolor": "white"
           },
           "yaxis": {
            "backgroundcolor": "#E5ECF6",
            "gridcolor": "white",
            "gridwidth": 2,
            "linecolor": "white",
            "showbackground": true,
            "ticks": "",
            "zerolinecolor": "white"
           },
           "zaxis": {
            "backgroundcolor": "#E5ECF6",
            "gridcolor": "white",
            "gridwidth": 2,
            "linecolor": "white",
            "showbackground": true,
            "ticks": "",
            "zerolinecolor": "white"
           }
          },
          "shapedefaults": {
           "line": {
            "color": "#2a3f5f"
           }
          },
          "ternary": {
           "aaxis": {
            "gridcolor": "white",
            "linecolor": "white",
            "ticks": ""
           },
           "baxis": {
            "gridcolor": "white",
            "linecolor": "white",
            "ticks": ""
           },
           "bgcolor": "#E5ECF6",
           "caxis": {
            "gridcolor": "white",
            "linecolor": "white",
            "ticks": ""
           }
          },
          "title": {
           "x": 0.05
          },
          "xaxis": {
           "automargin": true,
           "gridcolor": "white",
           "linecolor": "white",
           "ticks": "",
           "zerolinecolor": "white",
           "zerolinewidth": 2
          },
          "yaxis": {
           "automargin": true,
           "gridcolor": "white",
           "linecolor": "white",
           "ticks": "",
           "zerolinecolor": "white",
           "zerolinewidth": 2
          }
         }
        },
        "title": {
         "text": "Ten successful companies at growing social media traction"
        },
        "xaxis": {
         "title": {
          "text": "Companies name"
         }
        },
        "yaxis": {
         "title": {
          "text": "Social Media Traction"
         }
        }
       }
      },
      "text/html": [
       "<div>\n",
       "        \n",
       "        \n",
       "            <div id=\"8d508417-437d-4401-8bcb-168e6bb9a9c7\" class=\"plotly-graph-div\" style=\"height:525px; width:100%;\"></div>\n",
       "            <script type=\"text/javascript\">\n",
       "                require([\"plotly\"], function(Plotly) {\n",
       "                    window.PLOTLYENV=window.PLOTLYENV || {};\n",
       "                    \n",
       "                if (document.getElementById(\"8d508417-437d-4401-8bcb-168e6bb9a9c7\")) {\n",
       "                    Plotly.newPlot(\n",
       "                        '8d508417-437d-4401-8bcb-168e6bb9a9c7',\n",
       "                        [{\"type\": \"bar\", \"x\": [\"Disneyland\", \"WaltDisneyWorld\", \"KnottsBerryFarm\", \"SeaWorld\", \"TheGarden\", \"DisneylandParisfr\", \"manchesterunited\", \"BuschGardensTampaBay\", \"wwe\", \"cedarpoint\"], \"y\": [8038471543.0, 3144793021.0, 2421022908.0, 2386972476.0, 2147035178.0, 2057169505.0, 2012298243.0, 1830575098.0, 1634394648.0, 1351887192.0]}],\n",
       "                        {\"barmode\": \"group\", \"template\": {\"data\": {\"bar\": [{\"error_x\": {\"color\": \"#2a3f5f\"}, \"error_y\": {\"color\": \"#2a3f5f\"}, \"marker\": {\"line\": {\"color\": \"#E5ECF6\", \"width\": 0.5}}, \"type\": \"bar\"}], \"barpolar\": [{\"marker\": {\"line\": {\"color\": \"#E5ECF6\", \"width\": 0.5}}, \"type\": \"barpolar\"}], \"carpet\": [{\"aaxis\": {\"endlinecolor\": \"#2a3f5f\", \"gridcolor\": \"white\", \"linecolor\": \"white\", \"minorgridcolor\": \"white\", \"startlinecolor\": \"#2a3f5f\"}, \"baxis\": {\"endlinecolor\": \"#2a3f5f\", \"gridcolor\": \"white\", \"linecolor\": \"white\", \"minorgridcolor\": \"white\", \"startlinecolor\": \"#2a3f5f\"}, \"type\": \"carpet\"}], \"choropleth\": [{\"colorbar\": {\"outlinewidth\": 0, \"ticks\": \"\"}, \"type\": \"choropleth\"}], \"contour\": [{\"colorbar\": {\"outlinewidth\": 0, \"ticks\": \"\"}, \"colorscale\": [[0.0, \"#0d0887\"], [0.1111111111111111, \"#46039f\"], [0.2222222222222222, \"#7201a8\"], [0.3333333333333333, \"#9c179e\"], [0.4444444444444444, \"#bd3786\"], [0.5555555555555556, \"#d8576b\"], [0.6666666666666666, \"#ed7953\"], [0.7777777777777778, \"#fb9f3a\"], [0.8888888888888888, \"#fdca26\"], [1.0, \"#f0f921\"]], \"type\": \"contour\"}], \"contourcarpet\": [{\"colorbar\": {\"outlinewidth\": 0, \"ticks\": \"\"}, \"type\": \"contourcarpet\"}], \"heatmap\": [{\"colorbar\": {\"outlinewidth\": 0, \"ticks\": \"\"}, \"colorscale\": [[0.0, \"#0d0887\"], [0.1111111111111111, \"#46039f\"], [0.2222222222222222, \"#7201a8\"], [0.3333333333333333, \"#9c179e\"], [0.4444444444444444, \"#bd3786\"], [0.5555555555555556, \"#d8576b\"], [0.6666666666666666, \"#ed7953\"], [0.7777777777777778, \"#fb9f3a\"], [0.8888888888888888, \"#fdca26\"], [1.0, \"#f0f921\"]], \"type\": \"heatmap\"}], \"heatmapgl\": [{\"colorbar\": {\"outlinewidth\": 0, \"ticks\": \"\"}, \"colorscale\": [[0.0, \"#0d0887\"], [0.1111111111111111, \"#46039f\"], [0.2222222222222222, \"#7201a8\"], [0.3333333333333333, \"#9c179e\"], [0.4444444444444444, \"#bd3786\"], [0.5555555555555556, \"#d8576b\"], [0.6666666666666666, \"#ed7953\"], [0.7777777777777778, \"#fb9f3a\"], [0.8888888888888888, \"#fdca26\"], [1.0, \"#f0f921\"]], \"type\": \"heatmapgl\"}], \"histogram\": [{\"marker\": {\"colorbar\": {\"outlinewidth\": 0, \"ticks\": \"\"}}, \"type\": \"histogram\"}], \"histogram2d\": [{\"colorbar\": {\"outlinewidth\": 0, \"ticks\": \"\"}, \"colorscale\": [[0.0, \"#0d0887\"], [0.1111111111111111, \"#46039f\"], [0.2222222222222222, \"#7201a8\"], [0.3333333333333333, \"#9c179e\"], [0.4444444444444444, \"#bd3786\"], [0.5555555555555556, \"#d8576b\"], [0.6666666666666666, \"#ed7953\"], [0.7777777777777778, \"#fb9f3a\"], [0.8888888888888888, \"#fdca26\"], [1.0, \"#f0f921\"]], \"type\": \"histogram2d\"}], \"histogram2dcontour\": [{\"colorbar\": {\"outlinewidth\": 0, \"ticks\": \"\"}, \"colorscale\": [[0.0, \"#0d0887\"], [0.1111111111111111, \"#46039f\"], [0.2222222222222222, \"#7201a8\"], [0.3333333333333333, \"#9c179e\"], [0.4444444444444444, \"#bd3786\"], [0.5555555555555556, \"#d8576b\"], [0.6666666666666666, \"#ed7953\"], [0.7777777777777778, \"#fb9f3a\"], [0.8888888888888888, \"#fdca26\"], [1.0, \"#f0f921\"]], \"type\": \"histogram2dcontour\"}], \"mesh3d\": [{\"colorbar\": {\"outlinewidth\": 0, \"ticks\": \"\"}, \"type\": \"mesh3d\"}], \"parcoords\": [{\"line\": {\"colorbar\": {\"outlinewidth\": 0, \"ticks\": \"\"}}, \"type\": \"parcoords\"}], \"scatter\": [{\"marker\": {\"colorbar\": {\"outlinewidth\": 0, \"ticks\": \"\"}}, \"type\": \"scatter\"}], \"scatter3d\": [{\"line\": {\"colorbar\": {\"outlinewidth\": 0, \"ticks\": \"\"}}, \"marker\": {\"colorbar\": {\"outlinewidth\": 0, \"ticks\": \"\"}}, \"type\": \"scatter3d\"}], \"scattercarpet\": [{\"marker\": {\"colorbar\": {\"outlinewidth\": 0, \"ticks\": \"\"}}, \"type\": \"scattercarpet\"}], \"scattergeo\": [{\"marker\": {\"colorbar\": {\"outlinewidth\": 0, \"ticks\": \"\"}}, \"type\": \"scattergeo\"}], \"scattergl\": [{\"marker\": {\"colorbar\": {\"outlinewidth\": 0, \"ticks\": \"\"}}, \"type\": \"scattergl\"}], \"scattermapbox\": [{\"marker\": {\"colorbar\": {\"outlinewidth\": 0, \"ticks\": \"\"}}, \"type\": \"scattermapbox\"}], \"scatterpolar\": [{\"marker\": {\"colorbar\": {\"outlinewidth\": 0, \"ticks\": \"\"}}, \"type\": \"scatterpolar\"}], \"scatterpolargl\": [{\"marker\": {\"colorbar\": {\"outlinewidth\": 0, \"ticks\": \"\"}}, \"type\": \"scatterpolargl\"}], \"scatterternary\": [{\"marker\": {\"colorbar\": {\"outlinewidth\": 0, \"ticks\": \"\"}}, \"type\": \"scatterternary\"}], \"surface\": [{\"colorbar\": {\"outlinewidth\": 0, \"ticks\": \"\"}, \"colorscale\": [[0.0, \"#0d0887\"], [0.1111111111111111, \"#46039f\"], [0.2222222222222222, \"#7201a8\"], [0.3333333333333333, \"#9c179e\"], [0.4444444444444444, \"#bd3786\"], [0.5555555555555556, \"#d8576b\"], [0.6666666666666666, \"#ed7953\"], [0.7777777777777778, \"#fb9f3a\"], [0.8888888888888888, \"#fdca26\"], [1.0, \"#f0f921\"]], \"type\": \"surface\"}], \"table\": [{\"cells\": {\"fill\": {\"color\": \"#EBF0F8\"}, \"line\": {\"color\": \"white\"}}, \"header\": {\"fill\": {\"color\": \"#C8D4E3\"}, \"line\": {\"color\": \"white\"}}, \"type\": \"table\"}]}, \"layout\": {\"annotationdefaults\": {\"arrowcolor\": \"#2a3f5f\", \"arrowhead\": 0, \"arrowwidth\": 1}, \"colorscale\": {\"diverging\": [[0, \"#8e0152\"], [0.1, \"#c51b7d\"], [0.2, \"#de77ae\"], [0.3, \"#f1b6da\"], [0.4, \"#fde0ef\"], [0.5, \"#f7f7f7\"], [0.6, \"#e6f5d0\"], [0.7, \"#b8e186\"], [0.8, \"#7fbc41\"], [0.9, \"#4d9221\"], [1, \"#276419\"]], \"sequential\": [[0.0, \"#0d0887\"], [0.1111111111111111, \"#46039f\"], [0.2222222222222222, \"#7201a8\"], [0.3333333333333333, \"#9c179e\"], [0.4444444444444444, \"#bd3786\"], [0.5555555555555556, \"#d8576b\"], [0.6666666666666666, \"#ed7953\"], [0.7777777777777778, \"#fb9f3a\"], [0.8888888888888888, \"#fdca26\"], [1.0, \"#f0f921\"]], \"sequentialminus\": [[0.0, \"#0d0887\"], [0.1111111111111111, \"#46039f\"], [0.2222222222222222, \"#7201a8\"], [0.3333333333333333, \"#9c179e\"], [0.4444444444444444, \"#bd3786\"], [0.5555555555555556, \"#d8576b\"], [0.6666666666666666, \"#ed7953\"], [0.7777777777777778, \"#fb9f3a\"], [0.8888888888888888, \"#fdca26\"], [1.0, \"#f0f921\"]]}, \"colorway\": [\"#636efa\", \"#EF553B\", \"#00cc96\", \"#ab63fa\", \"#FFA15A\", \"#19d3f3\", \"#FF6692\", \"#B6E880\", \"#FF97FF\", \"#FECB52\"], \"font\": {\"color\": \"#2a3f5f\"}, \"geo\": {\"bgcolor\": \"white\", \"lakecolor\": \"white\", \"landcolor\": \"#E5ECF6\", \"showlakes\": true, \"showland\": true, \"subunitcolor\": \"white\"}, \"hoverlabel\": {\"align\": \"left\"}, \"hovermode\": \"closest\", \"mapbox\": {\"style\": \"light\"}, \"paper_bgcolor\": \"white\", \"plot_bgcolor\": \"#E5ECF6\", \"polar\": {\"angularaxis\": {\"gridcolor\": \"white\", \"linecolor\": \"white\", \"ticks\": \"\"}, \"bgcolor\": \"#E5ECF6\", \"radialaxis\": {\"gridcolor\": \"white\", \"linecolor\": \"white\", \"ticks\": \"\"}}, \"scene\": {\"xaxis\": {\"backgroundcolor\": \"#E5ECF6\", \"gridcolor\": \"white\", \"gridwidth\": 2, \"linecolor\": \"white\", \"showbackground\": true, \"ticks\": \"\", \"zerolinecolor\": \"white\"}, \"yaxis\": {\"backgroundcolor\": \"#E5ECF6\", \"gridcolor\": \"white\", \"gridwidth\": 2, \"linecolor\": \"white\", \"showbackground\": true, \"ticks\": \"\", \"zerolinecolor\": \"white\"}, \"zaxis\": {\"backgroundcolor\": \"#E5ECF6\", \"gridcolor\": \"white\", \"gridwidth\": 2, \"linecolor\": \"white\", \"showbackground\": true, \"ticks\": \"\", \"zerolinecolor\": \"white\"}}, \"shapedefaults\": {\"line\": {\"color\": \"#2a3f5f\"}}, \"ternary\": {\"aaxis\": {\"gridcolor\": \"white\", \"linecolor\": \"white\", \"ticks\": \"\"}, \"baxis\": {\"gridcolor\": \"white\", \"linecolor\": \"white\", \"ticks\": \"\"}, \"bgcolor\": \"#E5ECF6\", \"caxis\": {\"gridcolor\": \"white\", \"linecolor\": \"white\", \"ticks\": \"\"}}, \"title\": {\"x\": 0.05}, \"xaxis\": {\"automargin\": true, \"gridcolor\": \"white\", \"linecolor\": \"white\", \"ticks\": \"\", \"zerolinecolor\": \"white\", \"zerolinewidth\": 2}, \"yaxis\": {\"automargin\": true, \"gridcolor\": \"white\", \"linecolor\": \"white\", \"ticks\": \"\", \"zerolinecolor\": \"white\", \"zerolinewidth\": 2}}}, \"title\": {\"text\": \"Ten successful companies at growing social media traction\"}, \"xaxis\": {\"title\": {\"text\": \"Companies name\"}}, \"yaxis\": {\"title\": {\"text\": \"Social Media Traction\"}}},\n",
       "                        {\"responsive\": true}\n",
       "                    ).then(function(){\n",
       "                            \n",
       "var gd = document.getElementById('8d508417-437d-4401-8bcb-168e6bb9a9c7');\n",
       "var x = new MutationObserver(function (mutations, observer) {{\n",
       "        var display = window.getComputedStyle(gd).display;\n",
       "        if (!display || display === 'none') {{\n",
       "            console.log([gd, 'removed!']);\n",
       "            Plotly.purge(gd);\n",
       "            observer.disconnect();\n",
       "        }}\n",
       "}});\n",
       "\n",
       "// Listen for the removal of the full notebook cells\n",
       "var notebookContainer = gd.closest('#notebook-container');\n",
       "if (notebookContainer) {{\n",
       "    x.observe(notebookContainer, {childList: true});\n",
       "}}\n",
       "\n",
       "// Listen for the clearing of the current output cell\n",
       "var outputEl = gd.closest('.output');\n",
       "if (outputEl) {{\n",
       "    x.observe(outputEl, {childList: true});\n",
       "}}\n",
       "\n",
       "                        })\n",
       "                };\n",
       "                });\n",
       "            </script>\n",
       "        </div>"
      ]
     },
     "metadata": {},
     "output_type": "display_data"
    }
   ],
   "source": [
    "#First plot\n",
    "trace0 = go.Bar(\n",
    "    x = Social_Obj[\"Social_traction\"].index.values[:10],\n",
    "    y = Social_Obj[\"Social_traction\"].values[:10],\n",
    ")\n",
    "\n",
    "data = [trace0]\n",
    "\n",
    "layout = go.Layout(\n",
    "    title='Ten successful companies at growing social media traction',\n",
    "    xaxis=dict(title='Companies name'),\n",
    "    yaxis=dict(title='Social Media Traction'),\n",
    "    barmode='group'\n",
    ")\n",
    "\n",
    "\n",
    "fig = go.Figure(data=data, layout=layout)\n",
    "\n",
    "py.iplot(fig, filename='Companies-Grouped')"
   ]
  },
  {
   "cell_type": "markdown",
   "metadata": {},
   "source": [
    "These are Ten winner companies are the most successful at growing social media traction. Disneyland performs best."
   ]
  }
 ],
 "metadata": {
  "kernelspec": {
   "display_name": "Python 3",
   "language": "python",
   "name": "python3"
  },
  "language_info": {
   "codemirror_mode": {
    "name": "ipython",
    "version": 3
   },
   "file_extension": ".py",
   "mimetype": "text/x-python",
   "name": "python",
   "nbconvert_exporter": "python",
   "pygments_lexer": "ipython3",
   "version": "3.7.4"
  }
 },
 "nbformat": 4,
 "nbformat_minor": 2
}
